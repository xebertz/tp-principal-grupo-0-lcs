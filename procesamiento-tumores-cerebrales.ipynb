{
 "cells": [
  {
   "cell_type": "code",
   "execution_count": 100,
   "id": "0483385a-f1a7-4b9d-a257-f877ab2fdb90",
   "metadata": {
    "execution": {
     "iopub.execute_input": "2023-09-28T14:48:08.967451Z",
     "iopub.status.busy": "2023-09-28T14:48:08.967054Z",
     "iopub.status.idle": "2023-09-28T14:48:08.971139Z",
     "shell.execute_reply": "2023-09-28T14:48:08.970411Z",
     "shell.execute_reply.started": "2023-09-28T14:48:08.967425Z"
    },
    "tags": []
   },
   "outputs": [],
   "source": [
    "import os\n",
    "import cv2\n",
    "import matplotlib.pyplot as plt\n",
    "import numpy as np\n",
    "import opendatasets as od\n",
    "from PIL import Image\n",
    "import pandas as pd"
   ]
  },
  {
   "cell_type": "code",
   "execution_count": 101,
   "id": "870a669e-8440-47d6-a369-b703514854be",
   "metadata": {
    "execution": {
     "iopub.execute_input": "2023-09-28T14:48:11.474265Z",
     "iopub.status.busy": "2023-09-28T14:48:11.473854Z",
     "iopub.status.idle": "2023-09-28T14:48:29.814449Z",
     "shell.execute_reply": "2023-09-28T14:48:29.813812Z",
     "shell.execute_reply.started": "2023-09-28T14:48:11.474238Z"
    },
    "tags": []
   },
   "outputs": [
    {
     "name": "stdout",
     "output_type": "stream",
     "text": [
      "Please provide your Kaggle credentials to download this dataset. Learn more: http://bit.ly/kaggle-creds\n",
      "Your Kaggle username:"
     ]
    },
    {
     "name": "stdin",
     "output_type": "stream",
     "text": [
      "  gonzajl\n"
     ]
    },
    {
     "name": "stdout",
     "output_type": "stream",
     "text": [
      "Your Kaggle Key:"
     ]
    },
    {
     "name": "stdin",
     "output_type": "stream",
     "text": [
      "  ········\n"
     ]
    },
    {
     "name": "stdout",
     "output_type": "stream",
     "text": [
      "Downloading brain-tumor-mri-dataset.zip to ./brain-tumor-mri-dataset\n"
     ]
    },
    {
     "name": "stderr",
     "output_type": "stream",
     "text": [
      "100%|██████████| 149M/149M [00:02<00:00, 67.4MB/s] \n"
     ]
    },
    {
     "name": "stdout",
     "output_type": "stream",
     "text": [
      "\n"
     ]
    }
   ],
   "source": [
    "od.download(\"https://www.kaggle.com/datasets/masoudnickparvar/brain-tumor-mri-dataset\")"
   ]
  },
  {
   "cell_type": "code",
   "execution_count": 102,
   "id": "3175243b-a6a5-456c-acfe-371df6efc4b0",
   "metadata": {
    "execution": {
     "iopub.execute_input": "2023-09-28T14:48:30.112435Z",
     "iopub.status.busy": "2023-09-28T14:48:30.112020Z",
     "iopub.status.idle": "2023-09-28T14:48:40.492121Z",
     "shell.execute_reply": "2023-09-28T14:48:40.491462Z",
     "shell.execute_reply.started": "2023-09-28T14:48:30.112407Z"
    },
    "tags": []
   },
   "outputs": [
    {
     "name": "stdout",
     "output_type": "stream",
     "text": [
      "Please provide your Kaggle credentials to download this dataset. Learn more: http://bit.ly/kaggle-creds\n",
      "Your Kaggle username:"
     ]
    },
    {
     "name": "stdin",
     "output_type": "stream",
     "text": [
      "  gonzajl\n"
     ]
    },
    {
     "name": "stdout",
     "output_type": "stream",
     "text": [
      "Your Kaggle Key:"
     ]
    },
    {
     "name": "stdin",
     "output_type": "stream",
     "text": [
      "  ········\n"
     ]
    },
    {
     "name": "stdout",
     "output_type": "stream",
     "text": [
      "Downloading brain-tumors-dataset.zip to ./brain-tumors-dataset\n"
     ]
    },
    {
     "name": "stderr",
     "output_type": "stream",
     "text": [
      "100%|██████████| 221M/221M [00:02<00:00, 88.7MB/s] \n"
     ]
    },
    {
     "name": "stdout",
     "output_type": "stream",
     "text": [
      "\n"
     ]
    }
   ],
   "source": [
    "od.download(\"https://www.kaggle.com/datasets/mohammadhossein77/brain-tumors-dataset\")"
   ]
  },
  {
   "cell_type": "code",
   "execution_count": 103,
   "id": "b75f9a7d-2457-4e35-941c-d4652a65f518",
   "metadata": {
    "execution": {
     "iopub.execute_input": "2023-09-28T14:48:41.276214Z",
     "iopub.status.busy": "2023-09-28T14:48:41.275827Z",
     "iopub.status.idle": "2023-09-28T14:48:41.279660Z",
     "shell.execute_reply": "2023-09-28T14:48:41.278927Z",
     "shell.execute_reply.started": "2023-09-28T14:48:41.276189Z"
    },
    "tags": []
   },
   "outputs": [],
   "source": [
    "def es_imagen(archivo):\n",
    "    return archivo.endswith(('.jpg', '.jpeg', '.png'))"
   ]
  },
  {
   "cell_type": "code",
   "execution_count": 104,
   "id": "860d0525-0a19-4718-8563-26d1cfee5934",
   "metadata": {
    "execution": {
     "iopub.execute_input": "2023-09-28T14:48:44.176823Z",
     "iopub.status.busy": "2023-09-28T14:48:44.176425Z",
     "iopub.status.idle": "2023-09-28T14:48:44.181455Z",
     "shell.execute_reply": "2023-09-28T14:48:44.180714Z",
     "shell.execute_reply.started": "2023-09-28T14:48:44.176798Z"
    },
    "tags": []
   },
   "outputs": [],
   "source": [
    "def refinar_imagenes(ruta_carpeta, tamaño_imagenes):\n",
    "    for archivo in os.listdir(ruta_carpeta):\n",
    "        if es_imagen(archivo):\n",
    "\n",
    "            # Leemos la imagen\n",
    "            ruta_imagen = os.path.join(ruta_carpeta, archivo)\n",
    "            imagen = cv2.imread(ruta_imagen)\n",
    "            \n",
    "            # La pasamos a blanco y negro\n",
    "            imagen = cv2.cvtColor(imagen, cv2.COLOR_BGR2GRAY)\n",
    "            \n",
    "            # Le cambiamos el tamaño\n",
    "            imagen = cv2.resize(imagen, (tamaño_imagenes, tamaño_imagenes))\n",
    "            imagen = imagen.reshape(tamaño_imagenes, tamaño_imagenes, 1)\n",
    "\n",
    "            # Guardamos la imagen\n",
    "            cv2.imwrite(ruta_imagen, imagen)"
   ]
  },
  {
   "cell_type": "code",
   "execution_count": 105,
   "id": "19d71eca-0fe8-43ef-b6f4-0418e89512f4",
   "metadata": {
    "execution": {
     "iopub.execute_input": "2023-09-28T14:48:46.900657Z",
     "iopub.status.busy": "2023-09-28T14:48:46.900221Z",
     "iopub.status.idle": "2023-09-28T14:50:28.034236Z",
     "shell.execute_reply": "2023-09-28T14:50:28.033485Z",
     "shell.execute_reply.started": "2023-09-28T14:48:46.900630Z"
    },
    "tags": []
   },
   "outputs": [],
   "source": [
    "tamaño_imagenes = 224\n",
    "\n",
    "refinar_imagenes(\"./brain-tumor-mri-dataset/Testing/glioma\", tamaño_imagenes)\n",
    "refinar_imagenes(\"./brain-tumor-mri-dataset/Testing/meningioma/\", tamaño_imagenes)\n",
    "refinar_imagenes(\"./brain-tumor-mri-dataset/Testing/notumor/\", tamaño_imagenes)\n",
    "refinar_imagenes(\"./brain-tumor-mri-dataset/Testing/pituitary/\", tamaño_imagenes)\n",
    "\n",
    "refinar_imagenes(\"./brain-tumor-mri-dataset/Training/glioma\", tamaño_imagenes)\n",
    "refinar_imagenes(\"./brain-tumor-mri-dataset/Training/meningioma/\", tamaño_imagenes)\n",
    "refinar_imagenes(\"./brain-tumor-mri-dataset/Training/notumor/\", tamaño_imagenes)\n",
    "refinar_imagenes(\"./brain-tumor-mri-dataset/Training/pituitary/\", tamaño_imagenes)\n",
    "\n",
    "refinar_imagenes(\"./brain-tumors-dataset/Data/Tumor/glioma_tumor\", tamaño_imagenes)\n",
    "refinar_imagenes(\"./brain-tumors-dataset/Data/Tumor/meningioma_tumor/\", tamaño_imagenes)\n",
    "refinar_imagenes(\"./brain-tumors-dataset/Data/Normal\", tamaño_imagenes)\n",
    "refinar_imagenes(\"./brain-tumors-dataset/Data/Tumor/pituitary_tumor/\", tamaño_imagenes)"
   ]
  },
  {
   "cell_type": "code",
   "execution_count": 106,
   "id": "b36cc7d1-1f04-442c-b1e5-61bcb063da5d",
   "metadata": {
    "execution": {
     "iopub.execute_input": "2023-09-28T14:50:33.713037Z",
     "iopub.status.busy": "2023-09-28T14:50:33.712631Z",
     "iopub.status.idle": "2023-09-28T14:50:33.717664Z",
     "shell.execute_reply": "2023-09-28T14:50:33.717103Z",
     "shell.execute_reply.started": "2023-09-28T14:50:33.713010Z"
    },
    "tags": []
   },
   "outputs": [],
   "source": [
    "def aumentar_datos(carpeta_entrada, carpeta_salida, transformaciones):\n",
    "    # Asegurarse de que la carpeta de salida exista\n",
    "    if not os.path.exists(carpeta_salida):\n",
    "        os.makedirs(carpeta_salida)\n",
    "\n",
    "    for archivo in os.listdir(carpeta_entrada):\n",
    "        if es_imagen(archivo):\n",
    "            imagen = cv2.imread(os.path.join(carpeta_entrada, archivo))\n",
    "            for transformacion in transformaciones:\n",
    "                # Realizar la transformación en la imagen\n",
    "                imagen_aumentada = transformacion(imagen)\n",
    "\n",
    "                # Guardar la imagen aumentada en la carpeta de salida\n",
    "                nombre_archivo = f\"imagen_aumentada_{len(os.listdir(carpeta_salida)) + 1}.jpg\"\n",
    "                ruta_salida = os.path.join(carpeta_salida, nombre_archivo)\n",
    "                cv2.imwrite(ruta_salida, imagen_aumentada)"
   ]
  },
  {
   "cell_type": "code",
   "execution_count": 107,
   "id": "a5d4f9e0-39a2-4f8e-a683-11d9ff8641d2",
   "metadata": {
    "execution": {
     "iopub.execute_input": "2023-09-28T14:50:37.497706Z",
     "iopub.status.busy": "2023-09-28T14:50:37.497012Z",
     "iopub.status.idle": "2023-09-28T14:51:26.524410Z",
     "shell.execute_reply": "2023-09-28T14:51:26.523732Z",
     "shell.execute_reply.started": "2023-09-28T14:50:37.497679Z"
    },
    "tags": []
   },
   "outputs": [],
   "source": [
    "carpeta_salida = \"./tumores-cerebrales-mri-dataset\"\n",
    "\n",
    "transformaciones = [\n",
    "    lambda img: cv2.flip(img, 1),  # Volteo horizontal\n",
    "    lambda img: cv2.rotate(img, cv2.ROTATE_90_CLOCKWISE),  # Rotación 90 grados\n",
    "]\n",
    "\n",
    "transformaciones2 = [\n",
    "    lambda img: cv2.flip(img, 1),  # Volteo horizontal\n",
    "    lambda img: cv2.rotate(img, cv2.ROTATE_90_CLOCKWISE),  # Rotación 90 grados\n",
    "    lambda img: cv2.medianBlur(img, 5),  # Desenfoque mediano\n",
    "    #lambda img: cv2.blur(img, (5, 5)),  # Desenfoque gaussiano\n",
    "    #lambda img: cv2.dilate(img, None, iterations=2),  # Dilatación\n",
    "    #lambda img: cv2.erode(img, None, iterations=2),  # Erosión\n",
    "]\n",
    "\n",
    "aumentar_datos(\"./brain-tumor-mri-dataset/Testing/glioma\", carpeta_salida + \"/glioma/\", transformaciones)\n",
    "aumentar_datos(\"./brain-tumor-mri-dataset/Testing/meningioma/\", carpeta_salida + \"/meningioma/\", transformaciones)\n",
    "aumentar_datos(\"./brain-tumor-mri-dataset/Testing/notumor/\", carpeta_salida + \"/no-tumor/\", transformaciones2)\n",
    "aumentar_datos(\"./brain-tumor-mri-dataset/Testing/pituitary/\", carpeta_salida + \"/pituitary/\", transformaciones)\n",
    "\n",
    "aumentar_datos(\"./brain-tumor-mri-dataset/Training/glioma\", carpeta_salida + \"/glioma/\", transformaciones)\n",
    "aumentar_datos(\"./brain-tumor-mri-dataset/Training/meningioma/\", carpeta_salida + \"/meningioma/\", transformaciones)\n",
    "aumentar_datos(\"./brain-tumor-mri-dataset/Training/notumor/\", carpeta_salida + \"/no-tumor/\", transformaciones2)\n",
    "aumentar_datos(\"./brain-tumor-mri-dataset/Training/pituitary/\", carpeta_salida + \"/pituitary/\", transformaciones)"
   ]
  },
  {
   "cell_type": "code",
   "execution_count": 108,
   "id": "31b017cb-0099-4543-8dbf-62a4743e594a",
   "metadata": {
    "execution": {
     "iopub.execute_input": "2023-09-28T14:51:30.615859Z",
     "iopub.status.busy": "2023-09-28T14:51:30.615445Z",
     "iopub.status.idle": "2023-09-28T14:51:38.918643Z",
     "shell.execute_reply": "2023-09-28T14:51:38.917251Z",
     "shell.execute_reply.started": "2023-09-28T14:51:30.615834Z"
    },
    "tags": []
   },
   "outputs": [],
   "source": [
    "!mv ./brain-tumor-mri-dataset/Testing/glioma/* ./tumores-cerebrales-mri-dataset/glioma\n",
    "!mv ./brain-tumor-mri-dataset/Testing/meningioma/* ./tumores-cerebrales-mri-dataset/meningioma\n",
    "!mv ./brain-tumor-mri-dataset/Testing/notumor/* ./tumores-cerebrales-mri-dataset/no-tumor\n",
    "!mv ./brain-tumor-mri-dataset/Testing/pituitary/* ./tumores-cerebrales-mri-dataset/pituitary\n",
    "\n",
    "!mv ./brain-tumor-mri-dataset/Training/glioma/* ./tumores-cerebrales-mri-dataset/glioma\n",
    "!mv ./brain-tumor-mri-dataset/Training/meningioma/* ./tumores-cerebrales-mri-dataset/meningioma\n",
    "!mv ./brain-tumor-mri-dataset/Training/notumor/* ./tumores-cerebrales-mri-dataset/no-tumor\n",
    "!mv ./brain-tumor-mri-dataset/Training/pituitary/* ./tumores-cerebrales-mri-dataset/pituitary\n",
    "\n",
    "!mv ./brain-tumors-dataset/Data/Normal/* ./tumores-cerebrales-mri-dataset/no-tumor\n",
    "!mv ./brain-tumors-dataset/Data/Tumor/glioma_tumor/* ./tumores-cerebrales-mri-dataset/glioma\n",
    "!mv ./brain-tumors-dataset/Data/Tumor/meningioma_tumor/* ./tumores-cerebrales-mri-dataset/meningioma\n",
    "!mv ./brain-tumors-dataset/Data/Tumor/pituitary_tumor/* ./tumores-cerebrales-mri-dataset/pituitary"
   ]
  },
  {
   "cell_type": "code",
   "execution_count": 109,
   "id": "088ed18f-f80f-4988-b44c-ff398ee55015",
   "metadata": {
    "execution": {
     "iopub.execute_input": "2023-09-28T14:51:38.921394Z",
     "iopub.status.busy": "2023-09-28T14:51:38.920932Z",
     "iopub.status.idle": "2023-09-28T14:51:38.927864Z",
     "shell.execute_reply": "2023-09-28T14:51:38.927120Z",
     "shell.execute_reply.started": "2023-09-28T14:51:38.921356Z"
    },
    "tags": []
   },
   "outputs": [],
   "source": [
    "def agregar_filas(filas, ruta_carpeta, etiquetas):\n",
    "    for archivo in os.listdir(ruta_carpeta):\n",
    "        if es_imagen(archivo):\n",
    "            ruta_imagen = os.path.join(ruta_carpeta, archivo)\n",
    "            fila = {\n",
    "            \"imagen\": ruta_imagen,\n",
    "            \"glioma\": etiquetas[0],\n",
    "            \"meningioma\": etiquetas[1],\n",
    "            \"pituitary\": etiquetas[2],\n",
    "            \"no_tumor\": etiquetas[3]\n",
    "            }\n",
    "            filas.append(fila)"
   ]
  },
  {
   "cell_type": "code",
   "execution_count": 110,
   "id": "7ed7d896-a916-47a8-ac9f-31ee40304295",
   "metadata": {
    "execution": {
     "iopub.execute_input": "2023-09-28T14:51:43.193044Z",
     "iopub.status.busy": "2023-09-28T14:51:43.192650Z",
     "iopub.status.idle": "2023-09-28T14:51:43.438023Z",
     "shell.execute_reply": "2023-09-28T14:51:43.437396Z",
     "shell.execute_reply.started": "2023-09-28T14:51:43.193018Z"
    },
    "tags": []
   },
   "outputs": [],
   "source": [
    "filas = []\n",
    "agregar_filas(filas, \"./tumores-cerebrales-mri-dataset/glioma\", [1, 0, 0, 0])\n",
    "agregar_filas(filas, \"./tumores-cerebrales-mri-dataset/meningioma\", [0, 1, 0, 0])\n",
    "agregar_filas(filas, \"./tumores-cerebrales-mri-dataset/pituitary\", [0, 0, 1, 0])\n",
    "agregar_filas(filas, \"./tumores-cerebrales-mri-dataset/no-tumor\", [0, 0, 0, 1])\n",
    "\n",
    "columnas = [\"imagen\", \"glioma\", \"meningioma\", \"pituitary\", \"no_tumor\"]\n",
    "\n",
    "# Crea el DataFrame con las filas y nombres de columnas\n",
    "df = pd.DataFrame(filas, columns=columnas)\n",
    "\n",
    "# Exporta el DataFrame en un archivo CSV\n",
    "df.to_csv(\"datos.csv\", index=False)"
   ]
  },
  {
   "cell_type": "code",
   "execution_count": 111,
   "id": "354bc461-63a9-4f07-8797-5429629e97cc",
   "metadata": {
    "execution": {
     "iopub.execute_input": "2023-09-28T14:51:46.096281Z",
     "iopub.status.busy": "2023-09-28T14:51:46.095598Z",
     "iopub.status.idle": "2023-09-28T14:51:46.101682Z",
     "shell.execute_reply": "2023-09-28T14:51:46.101133Z",
     "shell.execute_reply.started": "2023-09-28T14:51:46.096253Z"
    },
    "tags": []
   },
   "outputs": [],
   "source": [
    "def mostrar_grafico_clases(datos):\n",
    "    cant_glioma = (datos[\"glioma\"] == 1).sum()\n",
    "    cant_meningioma = (datos[\"meningioma\"] == 1).sum()\n",
    "    cant_pituitary = (datos[\"pituitary\"] == 1).sum()\n",
    "    cant_no_tumor = (datos[\"no_tumor\"] == 1).sum()\n",
    "\n",
    "    categorias = ['glioma', 'meningioma', 'pituitary', 'no_tumor']\n",
    "    cantidades = [cant_glioma, cant_meningioma, cant_pituitary, cant_no_tumor]\n",
    "\n",
    "    plt.figure(figsize=(6, 4))\n",
    "    barras = plt.bar(categorias, cantidades)\n",
    "\n",
    "    for bar, cantidad in zip(barras, cantidades):\n",
    "        plt.text(bar.get_x() + bar.get_width() / 2 - 0.1, bar.get_height() / 2 - 550, str(cantidad), fontsize=12)\n",
    "\n",
    "    plt.xlabel('Clases')\n",
    "    plt.ylabel('Cantidad de Imágenes')\n",
    "    plt.title('Cantidad de Imágenes por Clase')\n",
    "\n",
    "    plt.show()"
   ]
  },
  {
   "cell_type": "code",
   "execution_count": 112,
   "id": "e321fe80-1850-4313-9390-992f4d463f3c",
   "metadata": {
    "execution": {
     "iopub.execute_input": "2023-09-28T14:51:50.859018Z",
     "iopub.status.busy": "2023-09-28T14:51:50.858625Z",
     "iopub.status.idle": "2023-09-28T14:51:51.061620Z",
     "shell.execute_reply": "2023-09-28T14:51:51.060998Z",
     "shell.execute_reply.started": "2023-09-28T14:51:50.858991Z"
    },
    "tags": []
   },
   "outputs": [
    {
     "data": {
      "image/png": "[encoded data removed]",
      "text/plain": [
       "<Figure size 600x400 with 1 Axes>"
      ]
     },
     "metadata": {},
     "output_type": "display_data"
    }
   ],
   "source": [
    "datos = pd.read_csv(\"./datos.csv\")\n",
    "mostrar_grafico_clases(datos)"
   ]
  },
  {
   "cell_type": "code",
   "execution_count": 113,
   "id": "0f95081f-bb36-4223-8fc5-4c53cee5cc6d",
   "metadata": {
    "execution": {
     "iopub.execute_input": "2023-09-28T14:52:01.564331Z",
     "iopub.status.busy": "2023-09-28T14:52:01.563904Z",
     "iopub.status.idle": "2023-09-28T14:52:01.617421Z",
     "shell.execute_reply": "2023-09-28T14:52:01.616637Z",
     "shell.execute_reply.started": "2023-09-28T14:52:01.564281Z"
    },
    "tags": []
   },
   "outputs": [
    {
     "name": "stdout",
     "output_type": "stream",
     "text": [
      "glioma  meningioma  pituitary  no_tumor\n",
      "0       0           0          1           11000\n",
      "                    1          0           11000\n",
      "        1           0          0           11000\n",
      "1       0           0          0           11000\n",
      "dtype: int64\n"
     ]
    }
   ],
   "source": [
    "cant_imagenes = 11000\n",
    "\n",
    "# Filtra los datos para las clases glioma, meningioma y pituitary\n",
    "df_0 = datos[datos.glioma == 1][:cant_imagenes]\n",
    "df_1 = datos[datos.meningioma == 1][:cant_imagenes]\n",
    "df_2 = datos[datos.pituitary == 1][:cant_imagenes]\n",
    "df_3 = datos[datos.no_tumor == 1][:cant_imagenes]\n",
    "\n",
    "# Concatena los DataFrames filtrados\n",
    "datos_nivelados = pd.concat([df_0, df_1, df_2, df_3])\n",
    "\n",
    "# Ordena los datos por el ID de la imagen\n",
    "datos_nivelados = datos_nivelados.sort_values(by=\"imagen\", ascending=True)\n",
    "\n",
    "# Restablece los índices\n",
    "datos_nivelados.reset_index(drop=True, inplace=True)\n",
    "\n",
    "# Verifica que las clases ahora tengan la misma cantidad de imágenes\n",
    "conteo_clases = datos_nivelados.groupby([\"glioma\", \"meningioma\", \"pituitary\", \"no_tumor\"]).size()\n",
    "print(conteo_clases)"
   ]
  },
  {
   "cell_type": "code",
   "execution_count": 114,
   "id": "5aa9e307-6778-43a8-bf46-7643ef14fc95",
   "metadata": {
    "execution": {
     "iopub.execute_input": "2023-09-28T14:52:04.780958Z",
     "iopub.status.busy": "2023-09-28T14:52:04.780561Z",
     "iopub.status.idle": "2023-09-28T14:52:04.883557Z",
     "shell.execute_reply": "2023-09-28T14:52:04.882773Z",
     "shell.execute_reply.started": "2023-09-28T14:52:04.780933Z"
    },
    "tags": []
   },
   "outputs": [
    {
     "data": {
      "image/png": "[encoded data removed]",
      "text/plain": [
       "<Figure size 600x400 with 1 Axes>"
      ]
     },
     "metadata": {},
     "output_type": "display_data"
    }
   ],
   "source": [
    "mostrar_grafico_clases(datos_nivelados)"
   ]
  },
  {
   "cell_type": "code",
   "execution_count": 115,
   "id": "a6703041-6acf-452f-a66c-05519500c541",
   "metadata": {
    "execution": {
     "iopub.execute_input": "2023-09-28T15:20:33.035520Z",
     "iopub.status.busy": "2023-09-28T15:20:33.035129Z",
     "iopub.status.idle": "2023-09-28T15:20:33.156675Z",
     "shell.execute_reply": "2023-09-28T15:20:33.155939Z",
     "shell.execute_reply.started": "2023-09-28T15:20:33.035494Z"
    },
    "tags": []
   },
   "outputs": [],
   "source": [
    "datos_nivelados.to_csv(\"datos.csv\", index=False)"
   ]
  }
 ],
 "metadata": {
  "kernelspec": {
   "display_name": "saturn (Python 3)",
   "language": "python",
   "name": "python3"
  },
  "language_info": {
   "codemirror_mode": {
    "name": "ipython",
    "version": 3
   },
   "file_extension": ".py",
   "mimetype": "text/x-python",
   "name": "python",
   "nbconvert_exporter": "python",
   "pygments_lexer": "ipython3",
   "version": "3.9.17"
  }
 },
 "nbformat": 4,
 "nbformat_minor": 5
}
