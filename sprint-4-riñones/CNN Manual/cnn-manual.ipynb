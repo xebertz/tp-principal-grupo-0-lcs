{
 "cells": [
  {
   "cell_type": "code",
   "execution_count": 1,
   "id": "c6ad766c-d246-4f81-98eb-ec01fdba09fb",
   "metadata": {
    "execution": {
     "iopub.execute_input": "2023-10-30T16:16:40.567095Z",
     "iopub.status.busy": "2023-10-30T16:16:40.566722Z",
     "iopub.status.idle": "2023-10-30T16:16:43.300213Z",
     "shell.execute_reply": "2023-10-30T16:16:43.299597Z",
     "shell.execute_reply.started": "2023-10-30T16:16:40.567072Z"
    },
    "id": "c6ad766c-d246-4f81-98eb-ec01fdba09fb",
    "tags": []
   },
   "outputs": [
    {
     "name": "stderr",
     "output_type": "stream",
     "text": [
      "2023-10-30 16:16:40.912255: I tensorflow/tsl/cuda/cudart_stub.cc:28] Could not find cuda drivers on your machine, GPU will not be used.\n",
      "2023-10-30 16:16:40.954189: E tensorflow/compiler/xla/stream_executor/cuda/cuda_dnn.cc:9342] Unable to register cuDNN factory: Attempting to register factory for plugin cuDNN when one has already been registered\n",
      "2023-10-30 16:16:40.954218: E tensorflow/compiler/xla/stream_executor/cuda/cuda_fft.cc:609] Unable to register cuFFT factory: Attempting to register factory for plugin cuFFT when one has already been registered\n",
      "2023-10-30 16:16:40.954244: E tensorflow/compiler/xla/stream_executor/cuda/cuda_blas.cc:1518] Unable to register cuBLAS factory: Attempting to register factory for plugin cuBLAS when one has already been registered\n",
      "2023-10-30 16:16:40.961598: I tensorflow/tsl/cuda/cudart_stub.cc:28] Could not find cuda drivers on your machine, GPU will not be used.\n",
      "2023-10-30 16:16:40.962765: I tensorflow/core/platform/cpu_feature_guard.cc:182] This TensorFlow binary is optimized to use available CPU instructions in performance-critical operations.\n",
      "To enable the following instructions: AVX2 AVX512F FMA, in other operations, rebuild TensorFlow with the appropriate compiler flags.\n",
      "2023-10-30 16:16:41.795156: W tensorflow/compiler/tf2tensorrt/utils/py_utils.cc:38] TF-TRT Warning: Could not find TensorRT\n",
      "/opt/saturncloud/envs/saturn/lib/python3.9/site-packages/scipy/__init__.py:146: UserWarning: A NumPy version >=1.17.3 and <1.25.0 is required for this version of SciPy (detected version 1.26.1\n",
      "  warnings.warn(f\"A NumPy version >={np_minversion} and <{np_maxversion}\"\n"
     ]
    }
   ],
   "source": [
    "import os\n",
    "import cv2\n",
    "import numpy as np\n",
    "import tensorflow as tf\n",
    "import opendatasets as od\n",
    "import pandas as pd\n",
    "from tensorflow.keras.optimizers import Adam\n",
    "import matplotlib.pyplot as plt"
   ]
  },
  {
   "cell_type": "code",
   "execution_count": 2,
   "id": "3eb0ac8a-3272-45e1-b644-a618933246ed",
   "metadata": {
    "execution": {
     "iopub.execute_input": "2023-10-30T16:16:43.302081Z",
     "iopub.status.busy": "2023-10-30T16:16:43.301610Z",
     "iopub.status.idle": "2023-10-30T16:16:43.305633Z",
     "shell.execute_reply": "2023-10-30T16:16:43.305095Z",
     "shell.execute_reply.started": "2023-10-30T16:16:43.302058Z"
    },
    "id": "3eb0ac8a-3272-45e1-b644-a618933246ed",
    "outputId": "d3c38953-9919-49fc-c0f1-8c56cfa9c8b9",
    "tags": []
   },
   "outputs": [
    {
     "name": "stdout",
     "output_type": "stream",
     "text": [
      "Skipping, found downloaded files in \"./riones-cyst-stone-tumor-normal-dataset\" (use force=True to force download)\n"
     ]
    }
   ],
   "source": [
    "od.download(\"https://www.kaggle.com/datasets/gonzajl/riones-cyst-stone-tumor-normal-dataset\")"
   ]
  },
  {
   "cell_type": "code",
   "execution_count": 3,
   "id": "cae4902f-63e5-4008-9494-ee0a7d03b2a4",
   "metadata": {
    "execution": {
     "iopub.execute_input": "2023-10-30T16:16:43.306683Z",
     "iopub.status.busy": "2023-10-30T16:16:43.306398Z",
     "iopub.status.idle": "2023-10-30T16:16:43.344160Z",
     "shell.execute_reply": "2023-10-30T16:16:43.343645Z",
     "shell.execute_reply.started": "2023-10-30T16:16:43.306664Z"
    },
    "tags": []
   },
   "outputs": [],
   "source": [
    "datos = pd.read_csv('riones-cyst-stone-tumor-normal-dataset/dataset/datos.csv')"
   ]
  },
  {
   "cell_type": "code",
   "execution_count": 4,
   "id": "940dccf8-6d60-494a-b60f-184a3c8938fa",
   "metadata": {
    "execution": {
     "iopub.execute_input": "2023-10-30T16:16:43.345147Z",
     "iopub.status.busy": "2023-10-30T16:16:43.344872Z",
     "iopub.status.idle": "2023-10-30T16:16:43.356407Z",
     "shell.execute_reply": "2023-10-30T16:16:43.355888Z",
     "shell.execute_reply.started": "2023-10-30T16:16:43.345128Z"
    },
    "id": "940dccf8-6d60-494a-b60f-184a3c8938fa",
    "tags": []
   },
   "outputs": [
    {
     "data": {
      "text/html": [
       "<div>\n",
       "<style scoped>\n",
       "    .dataframe tbody tr th:only-of-type {\n",
       "        vertical-align: middle;\n",
       "    }\n",
       "\n",
       "    .dataframe tbody tr th {\n",
       "        vertical-align: top;\n",
       "    }\n",
       "\n",
       "    .dataframe thead th {\n",
       "        text-align: right;\n",
       "    }\n",
       "</style>\n",
       "<table border=\"1\" class=\"dataframe\">\n",
       "  <thead>\n",
       "    <tr style=\"text-align: right;\">\n",
       "      <th></th>\n",
       "      <th>imagen</th>\n",
       "      <th>cyst</th>\n",
       "      <th>stone</th>\n",
       "      <th>tumor</th>\n",
       "      <th>normal</th>\n",
       "    </tr>\n",
       "  </thead>\n",
       "  <tbody>\n",
       "    <tr>\n",
       "      <th>0</th>\n",
       "      <td>dataset/tumor/kidney-tumor-2706.jpg</td>\n",
       "      <td>0</td>\n",
       "      <td>0</td>\n",
       "      <td>1</td>\n",
       "      <td>0</td>\n",
       "    </tr>\n",
       "    <tr>\n",
       "      <th>1</th>\n",
       "      <td>dataset/stone/kidney-stone-0729.png</td>\n",
       "      <td>0</td>\n",
       "      <td>1</td>\n",
       "      <td>0</td>\n",
       "      <td>0</td>\n",
       "    </tr>\n",
       "    <tr>\n",
       "      <th>2</th>\n",
       "      <td>dataset/tumor/kidney-tumor-2166.jpg</td>\n",
       "      <td>0</td>\n",
       "      <td>0</td>\n",
       "      <td>1</td>\n",
       "      <td>0</td>\n",
       "    </tr>\n",
       "    <tr>\n",
       "      <th>3</th>\n",
       "      <td>dataset/normal/kidney-normal-2626.jpg</td>\n",
       "      <td>0</td>\n",
       "      <td>0</td>\n",
       "      <td>0</td>\n",
       "      <td>1</td>\n",
       "    </tr>\n",
       "    <tr>\n",
       "      <th>4</th>\n",
       "      <td>dataset/stone/kidney-stone-0879.png</td>\n",
       "      <td>0</td>\n",
       "      <td>1</td>\n",
       "      <td>0</td>\n",
       "      <td>0</td>\n",
       "    </tr>\n",
       "    <tr>\n",
       "      <th>...</th>\n",
       "      <td>...</td>\n",
       "      <td>...</td>\n",
       "      <td>...</td>\n",
       "      <td>...</td>\n",
       "      <td>...</td>\n",
       "    </tr>\n",
       "    <tr>\n",
       "      <th>11751</th>\n",
       "      <td>dataset/cyst/kidney-cyst-2616.jpg</td>\n",
       "      <td>1</td>\n",
       "      <td>0</td>\n",
       "      <td>0</td>\n",
       "      <td>0</td>\n",
       "    </tr>\n",
       "    <tr>\n",
       "      <th>11752</th>\n",
       "      <td>dataset/tumor/kidney-tumor-0810.jpg</td>\n",
       "      <td>0</td>\n",
       "      <td>0</td>\n",
       "      <td>1</td>\n",
       "      <td>0</td>\n",
       "    </tr>\n",
       "    <tr>\n",
       "      <th>11753</th>\n",
       "      <td>dataset/cyst/kidney-cyst-2314.jpg</td>\n",
       "      <td>1</td>\n",
       "      <td>0</td>\n",
       "      <td>0</td>\n",
       "      <td>0</td>\n",
       "    </tr>\n",
       "    <tr>\n",
       "      <th>11754</th>\n",
       "      <td>dataset/normal/kidney-normal-2521.jpg</td>\n",
       "      <td>0</td>\n",
       "      <td>0</td>\n",
       "      <td>0</td>\n",
       "      <td>1</td>\n",
       "    </tr>\n",
       "    <tr>\n",
       "      <th>11755</th>\n",
       "      <td>dataset/stone/kidney-stone-0065.jpg</td>\n",
       "      <td>0</td>\n",
       "      <td>1</td>\n",
       "      <td>0</td>\n",
       "      <td>0</td>\n",
       "    </tr>\n",
       "  </tbody>\n",
       "</table>\n",
       "<p>11756 rows × 5 columns</p>\n",
       "</div>"
      ],
      "text/plain": [
       "                                      imagen  cyst  stone  tumor  normal\n",
       "0        dataset/tumor/kidney-tumor-2706.jpg     0      0      1       0\n",
       "1        dataset/stone/kidney-stone-0729.png     0      1      0       0\n",
       "2        dataset/tumor/kidney-tumor-2166.jpg     0      0      1       0\n",
       "3      dataset/normal/kidney-normal-2626.jpg     0      0      0       1\n",
       "4        dataset/stone/kidney-stone-0879.png     0      1      0       0\n",
       "...                                      ...   ...    ...    ...     ...\n",
       "11751      dataset/cyst/kidney-cyst-2616.jpg     1      0      0       0\n",
       "11752    dataset/tumor/kidney-tumor-0810.jpg     0      0      1       0\n",
       "11753      dataset/cyst/kidney-cyst-2314.jpg     1      0      0       0\n",
       "11754  dataset/normal/kidney-normal-2521.jpg     0      0      0       1\n",
       "11755    dataset/stone/kidney-stone-0065.jpg     0      1      0       0\n",
       "\n",
       "[11756 rows x 5 columns]"
      ]
     },
     "execution_count": 4,
     "metadata": {},
     "output_type": "execute_result"
    }
   ],
   "source": [
    "datos"
   ]
  },
  {
   "cell_type": "code",
   "execution_count": 5,
   "id": "8694bffa-44c9-4446-94dd-4725fcd04814",
   "metadata": {
    "execution": {
     "iopub.execute_input": "2023-10-30T16:16:43.357401Z",
     "iopub.status.busy": "2023-10-30T16:16:43.357120Z",
     "iopub.status.idle": "2023-10-30T16:16:43.361736Z",
     "shell.execute_reply": "2023-10-30T16:16:43.361181Z",
     "shell.execute_reply.started": "2023-10-30T16:16:43.357383Z"
    },
    "id": "8694bffa-44c9-4446-94dd-4725fcd04814",
    "tags": []
   },
   "outputs": [],
   "source": [
    "def cargar_imagenes(nombres, et):\n",
    "    imagenes = []\n",
    "    etiquetas = []\n",
    "    for i in range(len(nombres)):\n",
    "        ruta = 'riones-cyst-stone-tumor-normal-dataset/' + nombres[i]\n",
    "        imagen = cv2.imread(ruta, cv2.IMREAD_COLOR)\n",
    "        imagen = cv2.cvtColor(imagen, cv2.COLOR_BGR2GRAY)\n",
    "        imagen = imagen.reshape(imagen.shape[0], imagen.shape[0], 1)\n",
    "        imagenes.append(imagen)\n",
    "        etiquetas.append(list(et.iloc[i]))\n",
    "\n",
    "    return imagenes, etiquetas"
   ]
  },
  {
   "cell_type": "code",
   "execution_count": 6,
   "id": "40f4057a-b799-4d15-9055-c8f462f40883",
   "metadata": {
    "execution": {
     "iopub.execute_input": "2023-10-30T16:16:43.362718Z",
     "iopub.status.busy": "2023-10-30T16:16:43.362454Z",
     "iopub.status.idle": "2023-10-30T16:16:43.366256Z",
     "shell.execute_reply": "2023-10-30T16:16:43.365716Z",
     "shell.execute_reply.started": "2023-10-30T16:16:43.362699Z"
    },
    "id": "40f4057a-b799-4d15-9055-c8f462f40883",
    "tags": []
   },
   "outputs": [],
   "source": [
    "paths = datos.iloc[:, 0]\n",
    "tags = datos.iloc[:, 1:]   #ignoro filas particulares y traigo las columnas de 1 a fin"
   ]
  },
  {
   "cell_type": "code",
   "execution_count": 7,
   "id": "266e8cce-b361-4aff-bc36-736fddb6beee",
   "metadata": {
    "execution": {
     "iopub.execute_input": "2023-10-30T16:16:43.368493Z",
     "iopub.status.busy": "2023-10-30T16:16:43.368225Z",
     "iopub.status.idle": "2023-10-30T16:16:56.028161Z",
     "shell.execute_reply": "2023-10-30T16:16:56.027528Z",
     "shell.execute_reply.started": "2023-10-30T16:16:43.368472Z"
    },
    "id": "266e8cce-b361-4aff-bc36-736fddb6beee",
    "tags": []
   },
   "outputs": [],
   "source": [
    "imagenes, etiquetas = cargar_imagenes(paths, tags)"
   ]
  },
  {
   "cell_type": "code",
   "execution_count": 8,
   "id": "f3dfcf60-e42a-4281-abdc-66c08ff04961",
   "metadata": {
    "execution": {
     "iopub.execute_input": "2023-10-30T16:16:56.029376Z",
     "iopub.status.busy": "2023-10-30T16:16:56.029071Z",
     "iopub.status.idle": "2023-10-30T16:16:56.034963Z",
     "shell.execute_reply": "2023-10-30T16:16:56.034413Z",
     "shell.execute_reply.started": "2023-10-30T16:16:56.029340Z"
    },
    "tags": []
   },
   "outputs": [],
   "source": [
    "def mostrar_grafico_clases(etiquetas):\n",
    "    cyst = etiquetas.count([1, 0, 0, 0])\n",
    "    stone = etiquetas.count([0, 1, 0, 0])\n",
    "    tumor = etiquetas.count([0, 0, 1, 0])\n",
    "    normal = etiquetas.count([0, 0, 0, 1])\n",
    "\n",
    "    categorias = ['cyst', 'stone', 'tumor', 'normal']\n",
    "    cantidades = [cyst, stone, tumor, normal]\n",
    "\n",
    "    plt.figure(figsize=(6, 4))\n",
    "    barras = plt.bar(categorias, cantidades)\n",
    "\n",
    "    for bar, cantidad in zip(barras, cantidades):\n",
    "        plt.text(bar.get_x() + bar.get_width() / 2 - 0.1, bar.get_height() / 2, str(cantidad), fontsize=12)\n",
    "\n",
    "    plt.xlabel('Clases')\n",
    "    plt.ylabel('Cantidad de Imágenes')\n",
    "    plt.title('Cantidad de Imágenes por Clase')\n",
    "\n",
    "    plt.show()"
   ]
  },
  {
   "cell_type": "code",
   "execution_count": 9,
   "id": "3ec226ff-37f3-4a16-b3f4-7b3c3bb52ea1",
   "metadata": {
    "execution": {
     "iopub.execute_input": "2023-10-30T16:16:56.035960Z",
     "iopub.status.busy": "2023-10-30T16:16:56.035705Z",
     "iopub.status.idle": "2023-10-30T16:16:56.040280Z",
     "shell.execute_reply": "2023-10-30T16:16:56.039762Z",
     "shell.execute_reply.started": "2023-10-30T16:16:56.035941Z"
    },
    "id": "3ec226ff-37f3-4a16-b3f4-7b3c3bb52ea1",
    "tags": []
   },
   "outputs": [],
   "source": [
    "div_test = int(len(imagenes) * 0.8)"
   ]
  },
  {
   "cell_type": "code",
   "execution_count": 10,
   "id": "5800bdd7-a242-473f-9d3f-3d518b56ee62",
   "metadata": {
    "execution": {
     "iopub.execute_input": "2023-10-30T16:16:56.041225Z",
     "iopub.status.busy": "2023-10-30T16:16:56.040987Z",
     "iopub.status.idle": "2023-10-30T16:16:56.044571Z",
     "shell.execute_reply": "2023-10-30T16:16:56.044036Z",
     "shell.execute_reply.started": "2023-10-30T16:16:56.041207Z"
    },
    "id": "5800bdd7-a242-473f-9d3f-3d518b56ee62",
    "tags": []
   },
   "outputs": [],
   "source": [
    "imagenes_entrenamiento, imagenes_prueba = imagenes[:div_test], imagenes[div_test:]\n",
    "etiquetas_entrenamiento, etiquetas_prueba = etiquetas[:div_test], etiquetas[div_test:]"
   ]
  },
  {
   "cell_type": "code",
   "execution_count": 11,
   "id": "bfe95c46-9630-4d2d-977c-abf27205dd41",
   "metadata": {
    "execution": {
     "iopub.execute_input": "2023-10-30T16:16:56.045516Z",
     "iopub.status.busy": "2023-10-30T16:16:56.045271Z",
     "iopub.status.idle": "2023-10-30T16:16:56.170691Z",
     "shell.execute_reply": "2023-10-30T16:16:56.169956Z",
     "shell.execute_reply.started": "2023-10-30T16:16:56.045498Z"
    },
    "id": "bfe95c46-9630-4d2d-977c-abf27205dd41",
    "outputId": "b4390c74-2878-410a-a59e-06f56684cdeb",
    "tags": []
   },
   "outputs": [
    {
     "data": {
      "image/png": "[encoded data removed]",
      "text/plain": [
       "<Figure size 600x400 with 1 Axes>"
      ]
     },
     "metadata": {},
     "output_type": "display_data"
    }
   ],
   "source": [
    "mostrar_grafico_clases(etiquetas_entrenamiento)"
   ]
  },
  {
   "cell_type": "code",
   "execution_count": 12,
   "id": "f087907e-4044-4790-bb03-7b5700d09d0e",
   "metadata": {
    "execution": {
     "iopub.execute_input": "2023-10-30T16:16:56.171668Z",
     "iopub.status.busy": "2023-10-30T16:16:56.171378Z",
     "iopub.status.idle": "2023-10-30T16:16:56.287191Z",
     "shell.execute_reply": "2023-10-30T16:16:56.286514Z",
     "shell.execute_reply.started": "2023-10-30T16:16:56.171648Z"
    },
    "tags": []
   },
   "outputs": [
    {
     "data": {
      "image/png": "[encoded data removed]",
      "text/plain": [
       "<Figure size 600x400 with 1 Axes>"
      ]
     },
     "metadata": {},
     "output_type": "display_data"
    }
   ],
   "source": [
    "mostrar_grafico_clases(etiquetas_prueba)"
   ]
  },
  {
   "cell_type": "code",
   "execution_count": 13,
   "id": "ab388d07-5389-4f6b-9d52-f61ef9264983",
   "metadata": {
    "execution": {
     "iopub.execute_input": "2023-10-30T16:16:56.288653Z",
     "iopub.status.busy": "2023-10-30T16:16:56.288263Z",
     "iopub.status.idle": "2023-10-30T16:16:58.068249Z",
     "shell.execute_reply": "2023-10-30T16:16:58.067581Z",
     "shell.execute_reply.started": "2023-10-30T16:16:56.288622Z"
    },
    "id": "ab388d07-5389-4f6b-9d52-f61ef9264983",
    "outputId": "a8197205-50fd-4c4f-eb85-d8f526060a53",
    "tags": []
   },
   "outputs": [
    {
     "name": "stdout",
     "output_type": "stream",
     "text": [
      "(4,)\n"
     ]
    }
   ],
   "source": [
    "imagenes_entrenamiento = np.array(imagenes_entrenamiento).astype(float) / 255\n",
    "imagenes_prueba = np.array(imagenes_prueba).astype(float) / 255\n",
    "\n",
    "etiquetas_entrenamiento = np.array(etiquetas_entrenamiento)\n",
    "etiquetas_prueba = np.array(etiquetas_prueba)\n",
    "\n",
    "forma_etiqueta = etiquetas_entrenamiento[0].shape #Esto muestra el formato actual de las etiquetas, en particular muestra la primera\n",
    "                                                    #del array de entrenamiento\n",
    "print(forma_etiqueta)"
   ]
  },
  {
   "cell_type": "code",
   "execution_count": 14,
   "id": "846d0de6-0f96-4144-bfdb-33ec2af1b965",
   "metadata": {
    "execution": {
     "iopub.execute_input": "2023-10-30T16:16:58.069484Z",
     "iopub.status.busy": "2023-10-30T16:16:58.069139Z",
     "iopub.status.idle": "2023-10-30T16:16:58.072986Z",
     "shell.execute_reply": "2023-10-30T16:16:58.072414Z",
     "shell.execute_reply.started": "2023-10-30T16:16:58.069462Z"
    },
    "tags": []
   },
   "outputs": [
    {
     "name": "stdout",
     "output_type": "stream",
     "text": [
      "(9404, 4)\n"
     ]
    }
   ],
   "source": [
    "print(etiquetas_entrenamiento.shape)"
   ]
  },
  {
   "cell_type": "code",
   "execution_count": 15,
   "id": "40f70b21-e669-47bf-bd6b-382f7622757f",
   "metadata": {
    "execution": {
     "iopub.execute_input": "2023-10-30T16:16:58.074104Z",
     "iopub.status.busy": "2023-10-30T16:16:58.073828Z",
     "iopub.status.idle": "2023-10-30T16:16:58.191859Z",
     "shell.execute_reply": "2023-10-30T16:16:58.191240Z",
     "shell.execute_reply.started": "2023-10-30T16:16:58.074085Z"
    },
    "id": "40f70b21-e669-47bf-bd6b-382f7622757f",
    "tags": []
   },
   "outputs": [],
   "source": [
    "modelo_cnn = tf.keras.models.Sequential([\n",
    "    tf.keras.layers.Conv2D(16, (3, 3), activation='relu', input_shape=(224, 224, 1)),\n",
    "    tf.keras.layers.MaxPooling2D(3, 3),\n",
    "    tf.keras.layers.Conv2D(32, (3, 3), activation='relu'),\n",
    "    tf.keras.layers.MaxPooling2D(2, 2),\n",
    "    tf.keras.layers.Dropout(0.3),\n",
    "    tf.keras.layers.Flatten(),\n",
    "    tf.keras.layers.Dense(128, activation='relu'),\n",
    "    tf.keras.layers.Dropout(0.2),\n",
    "    tf.keras.layers.Dense(64, activation='relu'),\n",
    "    tf.keras.layers.Dropout(0.3),\n",
    "    tf.keras.layers.Dense(4, activation='sigmoid')\n",
    "])"
   ]
  },
  {
   "cell_type": "code",
   "execution_count": 16,
   "id": "1bfc5fa1-598d-4bc4-b6bd-1548dd571f91",
   "metadata": {
    "execution": {
     "iopub.execute_input": "2023-10-30T16:16:58.193026Z",
     "iopub.status.busy": "2023-10-30T16:16:58.192732Z",
     "iopub.status.idle": "2023-10-30T16:16:58.204003Z",
     "shell.execute_reply": "2023-10-30T16:16:58.203466Z",
     "shell.execute_reply.started": "2023-10-30T16:16:58.193006Z"
    },
    "id": "1bfc5fa1-598d-4bc4-b6bd-1548dd571f91",
    "tags": []
   },
   "outputs": [],
   "source": [
    "modelo_cnn.compile(optimizer='adam',\n",
    "                   loss='categorical_crossentropy',\n",
    "                   metrics=['categorical_accuracy'])"
   ]
  },
  {
   "cell_type": "code",
   "execution_count": 17,
   "id": "99941a80-d7c1-47b3-978a-19342187aaf5",
   "metadata": {
    "execution": {
     "iopub.execute_input": "2023-10-30T16:16:58.205024Z",
     "iopub.status.busy": "2023-10-30T16:16:58.204748Z",
     "iopub.status.idle": "2023-10-30T16:16:58.207940Z",
     "shell.execute_reply": "2023-10-30T16:16:58.207393Z",
     "shell.execute_reply.started": "2023-10-30T16:16:58.205006Z"
    }
   },
   "outputs": [],
   "source": [
    "vueltas=25"
   ]
  },
  {
   "cell_type": "code",
   "execution_count": 18,
   "id": "13ce555a-2d90-4e47-99a2-a93b103ed69a",
   "metadata": {
    "execution": {
     "iopub.execute_input": "2023-10-30T16:16:58.208936Z",
     "iopub.status.busy": "2023-10-30T16:16:58.208663Z",
     "iopub.status.idle": "2023-10-30T16:42:42.870420Z",
     "shell.execute_reply": "2023-10-30T16:42:42.869721Z",
     "shell.execute_reply.started": "2023-10-30T16:16:58.208917Z"
    },
    "id": "13ce555a-2d90-4e47-99a2-a93b103ed69a",
    "outputId": "ab0e90c6-fa35-4694-bd54-a3cb789b45d2",
    "tags": []
   },
   "outputs": [
    {
     "name": "stdout",
     "output_type": "stream",
     "text": [
      "Epoch 1/25\n",
      "294/294 [==============================] - 64s 215ms/step - loss: 0.4769 - categorical_accuracy: 0.8055 - val_loss: 0.1371 - val_categorical_accuracy: 0.9392\n",
      "Epoch 2/25\n",
      "294/294 [==============================] - 62s 210ms/step - loss: 0.1253 - categorical_accuracy: 0.9469 - val_loss: 0.0813 - val_categorical_accuracy: 0.9575\n",
      "Epoch 3/25\n",
      "294/294 [==============================] - 62s 211ms/step - loss: 0.0699 - categorical_accuracy: 0.9756 - val_loss: 0.0574 - val_categorical_accuracy: 0.9813\n",
      "Epoch 4/25\n",
      "294/294 [==============================] - 61s 208ms/step - loss: 0.0450 - categorical_accuracy: 0.9844 - val_loss: 0.0425 - val_categorical_accuracy: 0.9826\n",
      "Epoch 5/25\n",
      "294/294 [==============================] - 62s 210ms/step - loss: 0.0270 - categorical_accuracy: 0.9919 - val_loss: 0.0344 - val_categorical_accuracy: 0.9898\n",
      "Epoch 6/25\n",
      "294/294 [==============================] - 62s 210ms/step - loss: 0.0245 - categorical_accuracy: 0.9927 - val_loss: 0.0256 - val_categorical_accuracy: 0.9928\n",
      "Epoch 7/25\n",
      "294/294 [==============================] - 61s 209ms/step - loss: 0.0160 - categorical_accuracy: 0.9940 - val_loss: 0.0245 - val_categorical_accuracy: 0.9919\n",
      "Epoch 8/25\n",
      "294/294 [==============================] - 62s 210ms/step - loss: 0.0153 - categorical_accuracy: 0.9951 - val_loss: 0.0199 - val_categorical_accuracy: 0.9940\n",
      "Epoch 9/25\n",
      "294/294 [==============================] - 62s 210ms/step - loss: 0.0115 - categorical_accuracy: 0.9965 - val_loss: 0.0344 - val_categorical_accuracy: 0.9919\n",
      "Epoch 10/25\n",
      "294/294 [==============================] - 61s 208ms/step - loss: 0.0129 - categorical_accuracy: 0.9957 - val_loss: 0.0661 - val_categorical_accuracy: 0.9804\n",
      "Epoch 11/25\n",
      "294/294 [==============================] - 61s 208ms/step - loss: 0.0137 - categorical_accuracy: 0.9950 - val_loss: 0.0325 - val_categorical_accuracy: 0.9902\n",
      "Epoch 12/25\n",
      "294/294 [==============================] - 61s 208ms/step - loss: 0.0154 - categorical_accuracy: 0.9961 - val_loss: 0.0309 - val_categorical_accuracy: 0.9915\n",
      "Epoch 13/25\n",
      "294/294 [==============================] - 61s 208ms/step - loss: 0.0116 - categorical_accuracy: 0.9967 - val_loss: 0.0430 - val_categorical_accuracy: 0.9902\n",
      "Epoch 14/25\n",
      "294/294 [==============================] - 61s 207ms/step - loss: 0.0068 - categorical_accuracy: 0.9974 - val_loss: 0.0310 - val_categorical_accuracy: 0.9919\n",
      "Epoch 15/25\n",
      "294/294 [==============================] - 62s 210ms/step - loss: 0.0147 - categorical_accuracy: 0.9954 - val_loss: 0.0378 - val_categorical_accuracy: 0.9911\n",
      "Epoch 16/25\n",
      "294/294 [==============================] - 61s 209ms/step - loss: 0.0034 - categorical_accuracy: 0.9987 - val_loss: 0.0424 - val_categorical_accuracy: 0.9919\n",
      "Epoch 17/25\n",
      "294/294 [==============================] - 62s 210ms/step - loss: 0.0039 - categorical_accuracy: 0.9990 - val_loss: 0.0329 - val_categorical_accuracy: 0.9940\n",
      "Epoch 18/25\n",
      "294/294 [==============================] - 62s 210ms/step - loss: 0.0073 - categorical_accuracy: 0.9974 - val_loss: 0.0327 - val_categorical_accuracy: 0.9936\n",
      "Epoch 19/25\n",
      "294/294 [==============================] - 62s 210ms/step - loss: 0.0112 - categorical_accuracy: 0.9966 - val_loss: 0.0316 - val_categorical_accuracy: 0.9911\n",
      "Epoch 20/25\n",
      "294/294 [==============================] - 61s 209ms/step - loss: 0.0098 - categorical_accuracy: 0.9965 - val_loss: 0.0317 - val_categorical_accuracy: 0.9932\n",
      "Epoch 21/25\n",
      "294/294 [==============================] - 61s 209ms/step - loss: 0.0072 - categorical_accuracy: 0.9981 - val_loss: 0.0317 - val_categorical_accuracy: 0.9911\n",
      "Epoch 22/25\n",
      "294/294 [==============================] - 62s 211ms/step - loss: 0.0053 - categorical_accuracy: 0.9988 - val_loss: 0.0386 - val_categorical_accuracy: 0.9919\n",
      "Epoch 23/25\n",
      "294/294 [==============================] - 62s 210ms/step - loss: 0.0042 - categorical_accuracy: 0.9989 - val_loss: 0.0309 - val_categorical_accuracy: 0.9936\n",
      "Epoch 24/25\n",
      "294/294 [==============================] - 62s 209ms/step - loss: 0.0049 - categorical_accuracy: 0.9987 - val_loss: 0.0263 - val_categorical_accuracy: 0.9953\n",
      "Epoch 25/25\n",
      "294/294 [==============================] - 62s 212ms/step - loss: 0.0048 - categorical_accuracy: 0.9987 - val_loss: 0.0377 - val_categorical_accuracy: 0.9928\n"
     ]
    }
   ],
   "source": [
    "historial_cnn = modelo_cnn.fit(imagenes_entrenamiento, etiquetas_entrenamiento, epochs=vueltas, validation_data=(imagenes_prueba, etiquetas_prueba), use_multiprocessing=True, shuffle=True)"
   ]
  },
  {
   "cell_type": "code",
   "execution_count": 19,
   "id": "2e24eeeb-09d6-4481-9c32-0775420c612e",
   "metadata": {
    "execution": {
     "iopub.execute_input": "2023-10-30T16:42:42.871766Z",
     "iopub.status.busy": "2023-10-30T16:42:42.871461Z",
     "iopub.status.idle": "2023-10-30T16:42:43.146616Z",
     "shell.execute_reply": "2023-10-30T16:42:43.145864Z",
     "shell.execute_reply.started": "2023-10-30T16:42:42.871744Z"
    },
    "tags": []
   },
   "outputs": [
    {
     "data": {
      "image/png": "[encoded data removed]",
      "text/plain": [
       "<Figure size 1000x500 with 2 Axes>"
      ]
     },
     "metadata": {},
     "output_type": "display_data"
    }
   ],
   "source": [
    "# Graficas de precisión y pérdida del modelo\n",
    "categorical_accuracy = historial_cnn.history['categorical_accuracy']\n",
    "val_categorical_accuracy = historial_cnn.history['val_categorical_accuracy']\n",
    "\n",
    "loss = historial_cnn.history['loss']\n",
    "val_loss = historial_cnn.history['val_loss']\n",
    "\n",
    "rango_epocas = range(vueltas)\n",
    "\n",
    "plt.figure(figsize=(10,5))\n",
    "plt.subplot(1,2,1)\n",
    "plt.plot(rango_epocas, categorical_accuracy, label='Precisión Entrenamiento')\n",
    "plt.plot(rango_epocas, val_categorical_accuracy, label='Precisión Pruebas')\n",
    "plt.legend(loc='lower right')\n",
    "plt.ylim(0.8, 1)\n",
    "plt.title('Precisión de entrenamiento y pruebas')\n",
    "\n",
    "plt.subplot(1,2,2)\n",
    "plt.plot(rango_epocas, loss, label= 'Pérdida de entrenamiento')\n",
    "plt.plot(rango_epocas, val_loss, label='Pérdida de pruebas')\n",
    "plt.legend(loc='upper right')\n",
    "plt.ylim(0, 0.8)\n",
    "plt.title('Pérdida de entrenamiento y pruebas')\n",
    "plt.show()"
   ]
  },
  {
   "cell_type": "code",
   "execution_count": 20,
   "id": "00faf71e-673c-4b10-b941-c9246fbe4914",
   "metadata": {
    "execution": {
     "iopub.execute_input": "2023-10-30T16:42:43.148353Z",
     "iopub.status.busy": "2023-10-30T16:42:43.147761Z",
     "iopub.status.idle": "2023-10-30T16:42:43.152076Z",
     "shell.execute_reply": "2023-10-30T16:42:43.151405Z",
     "shell.execute_reply.started": "2023-10-30T16:42:43.148320Z"
    },
    "id": "00faf71e-673c-4b10-b941-c9246fbe4914",
    "tags": []
   },
   "outputs": [],
   "source": [
    "def es_correcta(prediccion, esperado):\n",
    "    return prediccion.index(max(prediccion)) == esperado.index(max(esperado))"
   ]
  },
  {
   "cell_type": "code",
   "execution_count": 21,
   "id": "7af4e645-c1f3-4f0a-b6b6-b5bd6378fb96",
   "metadata": {
    "execution": {
     "iopub.execute_input": "2023-10-30T16:42:43.153807Z",
     "iopub.status.busy": "2023-10-30T16:42:43.153157Z",
     "iopub.status.idle": "2023-10-30T16:42:48.436102Z",
     "shell.execute_reply": "2023-10-30T16:42:48.435487Z",
     "shell.execute_reply.started": "2023-10-30T16:42:43.153773Z"
    },
    "id": "7af4e645-c1f3-4f0a-b6b6-b5bd6378fb96",
    "outputId": "8994b49f-f3d1-4b38-8469-446e2e1d0196",
    "tags": []
   },
   "outputs": [
    {
     "name": "stdout",
     "output_type": "stream",
     "text": [
      "74/74 [==============================] - 4s 58ms/step\n",
      "Cantidad de predicciones: 2352\n",
      "Etiquetas:   [C, S, T, N]\n",
      "Total:       [558, 606, 596, 592]\n",
      "Correctas:   [554, 602, 596, 583]\n",
      "Incorrectas: [4, 4, 0, 9]\n"
     ]
    }
   ],
   "source": [
    "correctas_segun_tipo = [0, 0, 0, 0]\n",
    "falladas_segun_tipo = [0, 0, 0, 0]\n",
    "\n",
    "predicciones = modelo_cnn.predict(imagenes_prueba)\n",
    "print(f\"Cantidad de predicciones: {len(predicciones)}\")\n",
    "\n",
    "for i in range(len(predicciones)):\n",
    "    prediccion = list(predicciones[i])\n",
    "    index = prediccion.index(max(prediccion))\n",
    "\n",
    "    if es_correcta(prediccion, list(etiquetas_prueba[i])):\n",
    "        correctas_segun_tipo[index] += 1\n",
    "    else:\n",
    "        falladas_segun_tipo[index] += 1\n",
    "\n",
    "cant_totales = list(map(lambda x, y: x + y, correctas_segun_tipo, falladas_segun_tipo))\n",
    "print(\"Etiquetas:   [C, S, T, N]\")\n",
    "print(f\"Total:       {cant_totales}\")\n",
    "print(f\"Correctas:   {correctas_segun_tipo}\")\n",
    "print(f\"Incorrectas: {falladas_segun_tipo}\")"
   ]
  },
  {
   "cell_type": "code",
   "execution_count": 22,
   "id": "89e73fe3-5f2e-4c4a-9926-0b52a5053218",
   "metadata": {
    "execution": {
     "iopub.execute_input": "2023-10-30T16:42:48.439070Z",
     "iopub.status.busy": "2023-10-30T16:42:48.438786Z",
     "iopub.status.idle": "2023-10-30T16:42:48.519080Z",
     "shell.execute_reply": "2023-10-30T16:42:48.518461Z",
     "shell.execute_reply.started": "2023-10-30T16:42:48.439048Z"
    },
    "tags": []
   },
   "outputs": [
    {
     "name": "stderr",
     "output_type": "stream",
     "text": [
      "/opt/saturncloud/envs/saturn/lib/python3.9/site-packages/keras/src/engine/training.py:3079: UserWarning: You are saving your model as an HDF5 file via `model.save()`. This file format is considered legacy. We recommend using instead the native Keras format, e.g. `model.save('my_model.keras')`.\n",
      "  saving_api.save_model(\n"
     ]
    }
   ],
   "source": [
    "modelo_cnn.save('cnn-riñones.h5')"
   ]
  }
 ],
 "metadata": {
  "colab": {
   "provenance": []
  },
  "kernelspec": {
   "display_name": "saturn (Python 3)",
   "language": "python",
   "name": "python3"
  },
  "language_info": {
   "codemirror_mode": {
    "name": "ipython",
    "version": 3
   },
   "file_extension": ".py",
   "mimetype": "text/x-python",
   "name": "python",
   "nbconvert_exporter": "python",
   "pygments_lexer": "ipython3",
   "version": "3.9.17"
  }
 },
 "nbformat": 4,
 "nbformat_minor": 5
}
