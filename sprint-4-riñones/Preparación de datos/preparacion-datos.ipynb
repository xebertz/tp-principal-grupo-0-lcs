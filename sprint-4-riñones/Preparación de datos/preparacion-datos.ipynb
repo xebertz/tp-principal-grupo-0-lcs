{
 "cells": [
  {
   "cell_type": "code",
   "execution_count": 1,
   "id": "fd8bcc20-4836-4ee5-be0b-cac393efb289",
   "metadata": {
    "execution": {
     "iopub.execute_input": "2023-10-28T02:37:41.951070Z",
     "iopub.status.busy": "2023-10-28T02:37:41.950689Z",
     "iopub.status.idle": "2023-10-28T02:37:44.018258Z",
     "shell.execute_reply": "2023-10-28T02:37:44.017650Z",
     "shell.execute_reply.started": "2023-10-28T02:37:41.951041Z"
    },
    "tags": []
   },
   "outputs": [],
   "source": [
    "import os\n",
    "import cv2\n",
    "import matplotlib.pyplot as plt\n",
    "import numpy as np\n",
    "import opendatasets as od\n",
    "from PIL import Image\n",
    "import pandas as pd\n",
    "\n",
    "os.environ['TF_CPP_MIN_LOG_LEVEL'] = '1'"
   ]
  },
  {
   "cell_type": "code",
   "execution_count": 2,
   "id": "e9f2954c-6992-4650-b3e6-fc3b7ac8653c",
   "metadata": {
    "execution": {
     "iopub.execute_input": "2023-10-28T02:38:13.830024Z",
     "iopub.status.busy": "2023-10-28T02:38:13.829543Z",
     "iopub.status.idle": "2023-10-28T02:39:01.833176Z",
     "shell.execute_reply": "2023-10-28T02:39:01.831655Z",
     "shell.execute_reply.started": "2023-10-28T02:38:13.829998Z"
    },
    "tags": []
   },
   "outputs": [
    {
     "name": "stdout",
     "output_type": "stream",
     "text": [
      "Please provide your Kaggle credentials to download this dataset. Learn more: http://bit.ly/kaggle-creds\n",
      "Your Kaggle username:"
     ]
    },
    {
     "name": "stdin",
     "output_type": "stream",
     "text": [
      "  gonzajl\n"
     ]
    },
    {
     "name": "stdout",
     "output_type": "stream",
     "text": [
      "Your Kaggle Key:"
     ]
    },
    {
     "name": "stdin",
     "output_type": "stream",
     "text": [
      "  ········\n"
     ]
    },
    {
     "name": "stdout",
     "output_type": "stream",
     "text": [
      "Downloading ct-kidney-dataset-normal-cyst-tumor-and-stone.zip to ./ct-kidney-dataset-normal-cyst-tumor-and-stone\n"
     ]
    },
    {
     "name": "stderr",
     "output_type": "stream",
     "text": [
      "100%|██████████| 1.52G/1.52G [00:18<00:00, 86.4MB/s]\n"
     ]
    },
    {
     "name": "stdout",
     "output_type": "stream",
     "text": [
      "\n"
     ]
    }
   ],
   "source": [
    "od.download(\"https://www.kaggle.com/datasets/nazmul0087/ct-kidney-dataset-normal-cyst-tumor-and-stone\")"
   ]
  },
  {
   "cell_type": "code",
   "execution_count": 3,
   "id": "6f8f30f3-9009-40e5-9668-66be8e6d3cc2",
   "metadata": {
    "execution": {
     "iopub.execute_input": "2023-10-28T02:39:01.834895Z",
     "iopub.status.busy": "2023-10-28T02:39:01.834501Z",
     "iopub.status.idle": "2023-10-28T02:40:21.534278Z",
     "shell.execute_reply": "2023-10-28T02:40:21.533642Z",
     "shell.execute_reply.started": "2023-10-28T02:39:01.834864Z"
    },
    "tags": []
   },
   "outputs": [
    {
     "name": "stdout",
     "output_type": "stream",
     "text": [
      "Please provide your Kaggle credentials to download this dataset. Learn more: http://bit.ly/kaggle-creds\n",
      "Your Kaggle username:"
     ]
    },
    {
     "name": "stdin",
     "output_type": "stream",
     "text": [
      "  gonzajl\n"
     ]
    },
    {
     "name": "stdout",
     "output_type": "stream",
     "text": [
      "Your Kaggle Key:"
     ]
    },
    {
     "name": "stdin",
     "output_type": "stream",
     "text": [
      "  ········\n"
     ]
    },
    {
     "name": "stdout",
     "output_type": "stream",
     "text": [
      "Downloading kidney-stones-mri-and-ct-scans.zip to ./kidney-stones-mri-and-ct-scans\n"
     ]
    },
    {
     "name": "stderr",
     "output_type": "stream",
     "text": [
      "100%|██████████| 682M/682M [00:09<00:00, 72.3MB/s] \n"
     ]
    },
    {
     "name": "stdout",
     "output_type": "stream",
     "text": [
      "\n"
     ]
    }
   ],
   "source": [
    "od.download(\"https://www.kaggle.com/datasets/mohammedrizwanmalik/kidney-stones-mri-and-ct-scans\")"
   ]
  },
  {
   "cell_type": "code",
   "execution_count": 4,
   "id": "a7a76189-fd4f-44a1-9460-0e11d84cc6b9",
   "metadata": {
    "execution": {
     "iopub.execute_input": "2023-10-28T02:40:21.535454Z",
     "iopub.status.busy": "2023-10-28T02:40:21.535161Z",
     "iopub.status.idle": "2023-10-28T02:40:44.651344Z",
     "shell.execute_reply": "2023-10-28T02:40:44.650688Z",
     "shell.execute_reply.started": "2023-10-28T02:40:21.535431Z"
    },
    "tags": []
   },
   "outputs": [
    {
     "name": "stdout",
     "output_type": "stream",
     "text": [
      "Please provide your Kaggle credentials to download this dataset. Learn more: http://bit.ly/kaggle-creds\n",
      "Your Kaggle username:"
     ]
    },
    {
     "name": "stdin",
     "output_type": "stream",
     "text": [
      "  gonzajl\n"
     ]
    },
    {
     "name": "stdout",
     "output_type": "stream",
     "text": [
      "Your Kaggle Key:"
     ]
    },
    {
     "name": "stdin",
     "output_type": "stream",
     "text": [
      "  ········\n"
     ]
    },
    {
     "name": "stdout",
     "output_type": "stream",
     "text": [
      "Downloading kidneystone.zip to ./kidneystone\n"
     ]
    },
    {
     "name": "stderr",
     "output_type": "stream",
     "text": [
      "100%|██████████| 611M/611M [00:13<00:00, 48.1MB/s] \n"
     ]
    },
    {
     "name": "stdout",
     "output_type": "stream",
     "text": [
      "\n"
     ]
    }
   ],
   "source": [
    "od.download(\"https://www.kaggle.com/datasets/raagbhutani/kidneystone\")"
   ]
  },
  {
   "cell_type": "code",
   "execution_count": 11,
   "id": "f8f37320-8a15-4d9f-9cfc-42074a976270",
   "metadata": {
    "execution": {
     "iopub.execute_input": "2023-10-28T03:04:31.133228Z",
     "iopub.status.busy": "2023-10-28T03:04:31.132820Z",
     "iopub.status.idle": "2023-10-28T03:09:43.777454Z",
     "shell.execute_reply": "2023-10-28T03:09:43.776738Z",
     "shell.execute_reply.started": "2023-10-28T03:04:31.133200Z"
    },
    "tags": []
   },
   "outputs": [
    {
     "name": "stdout",
     "output_type": "stream",
     "text": [
      "Please provide your Kaggle credentials to download this dataset. Learn more: http://bit.ly/kaggle-creds\n",
      "Your Kaggle username:"
     ]
    },
    {
     "name": "stdin",
     "output_type": "stream",
     "text": [
      "  gonzajl\n"
     ]
    },
    {
     "name": "stdout",
     "output_type": "stream",
     "text": [
      "Your Kaggle Key:"
     ]
    },
    {
     "name": "stdin",
     "output_type": "stream",
     "text": [
      "  ········\n"
     ]
    },
    {
     "name": "stdout",
     "output_type": "stream",
     "text": [
      "Downloading medical-scan-classification-dataset.zip to ./medical-scan-classification-dataset\n"
     ]
    },
    {
     "name": "stderr",
     "output_type": "stream",
     "text": [
      "100%|██████████| 15.0G/15.0G [03:36<00:00, 74.6MB/s]\n"
     ]
    },
    {
     "name": "stdout",
     "output_type": "stream",
     "text": [
      "\n"
     ]
    }
   ],
   "source": [
    "od.download(\"https://www.kaggle.com/datasets/arjunbasandrai/medical-scan-classification-dataset\")"
   ]
  },
  {
   "cell_type": "code",
   "execution_count": 10,
   "id": "adc580d6-31e8-40a7-bdf0-462f1b8bfaba",
   "metadata": {
    "execution": {
     "iopub.execute_input": "2023-10-28T03:02:34.944603Z",
     "iopub.status.busy": "2023-10-28T03:02:34.944194Z",
     "iopub.status.idle": "2023-10-28T03:02:47.162800Z",
     "shell.execute_reply": "2023-10-28T03:02:47.161916Z",
     "shell.execute_reply.started": "2023-10-28T03:02:34.944576Z"
    },
    "tags": []
   },
   "outputs": [],
   "source": [
    "!mkdir dataset\n",
    "!mkdir dataset/cyst\n",
    "!mkdir dataset/stone\n",
    "!mkdir dataset/tumor\n",
    "!mkdir dataset/normal\n",
    "\n",
    "!mv ct-kidney-dataset-normal-cyst-tumor-and-stone/CT-KIDNEY-DATASET-Normal-Cyst-Tumor-Stone/CT-KIDNEY-DATASET-Normal-Cyst-Tumor-Stone/Cyst/* dataset/cyst\n",
    "!mv ct-kidney-dataset-normal-cyst-tumor-and-stone/CT-KIDNEY-DATASET-Normal-Cyst-Tumor-Stone/CT-KIDNEY-DATASET-Normal-Cyst-Tumor-Stone/Stone/* dataset/stone\n",
    "!mv ct-kidney-dataset-normal-cyst-tumor-and-stone/CT-KIDNEY-DATASET-Normal-Cyst-Tumor-Stone/CT-KIDNEY-DATASET-Normal-Cyst-Tumor-Stone/Tumor/* dataset/tumor\n",
    "!mv ct-kidney-dataset-normal-cyst-tumor-and-stone/CT-KIDNEY-DATASET-Normal-Cyst-Tumor-Stone/CT-KIDNEY-DATASET-Normal-Cyst-Tumor-Stone/Normal/* dataset/normal\n",
    "\n",
    "!mv kidney-stones-mri-and-ct-scans/Dataset/Test/Kidney_stone/* dataset/stone\n",
    "!mv kidney-stones-mri-and-ct-scans/Dataset/Test/Normal/* dataset/normal\n",
    "\n",
    "!mv kidney-stones-mri-and-ct-scans/Dataset/Train/Kidney_stone/* dataset/stone\n",
    "!mv kidney-stones-mri-and-ct-scans/Dataset/Train/Normal/* dataset/normal\n",
    "\n",
    "!mv kidneystone/CT_SCAN/Kidney_stone/* dataset/stone\n",
    "!mv kidneystone/CT_SCAN/Normal/* dataset/normal\n",
    "\n",
    "!mv medical-scan-classification-dataset/'Kidney Cancer'/'Kidney Cancer'/Tumor/* dataset/tumor"
   ]
  },
  {
   "cell_type": "code",
   "execution_count": 19,
   "id": "f1854f4e-33be-4747-b2de-33ab68f6d17f",
   "metadata": {
    "execution": {
     "iopub.execute_input": "2023-10-28T03:18:03.474283Z",
     "iopub.status.busy": "2023-10-28T03:18:03.473894Z",
     "iopub.status.idle": "2023-10-28T03:18:03.488250Z",
     "shell.execute_reply": "2023-10-28T03:18:03.487624Z",
     "shell.execute_reply.started": "2023-10-28T03:18:03.474256Z"
    },
    "tags": []
   },
   "outputs": [
    {
     "name": "stdout",
     "output_type": "stream",
     "text": [
      "3709\n",
      "6914\n",
      "2939\n",
      "7283\n"
     ]
    }
   ],
   "source": [
    "print(len(os.listdir(\"dataset/cyst\")))\n",
    "print(len(os.listdir(\"dataset/normal\")))\n",
    "print(len(os.listdir(\"dataset/stone\")))\n",
    "print(len(os.listdir(\"dataset/tumor\")))"
   ]
  },
  {
   "cell_type": "code",
   "execution_count": 21,
   "id": "65eb6d20-28fd-4750-b58c-e19f016566d0",
   "metadata": {
    "execution": {
     "iopub.execute_input": "2023-10-28T03:22:23.643009Z",
     "iopub.status.busy": "2023-10-28T03:22:23.642622Z",
     "iopub.status.idle": "2023-10-28T03:22:23.647710Z",
     "shell.execute_reply": "2023-10-28T03:22:23.646964Z",
     "shell.execute_reply.started": "2023-10-28T03:22:23.642985Z"
    },
    "tags": []
   },
   "outputs": [],
   "source": [
    "def agregar_filas(filas, ruta_carpeta, etiquetas):\n",
    "    for archivo in os.listdir(ruta_carpeta):\n",
    "        if es_imagen(archivo):\n",
    "            ruta_imagen = os.path.join(ruta_carpeta, archivo)\n",
    "            fila = {\"imagen\": ruta_imagen, \n",
    "                    \"cyst\": etiquetas[0], \n",
    "                    \"stone\": etiquetas[1],\n",
    "                    \"tumor\": etiquetas[2],\n",
    "                    \"normal\": etiquetas[3]\n",
    "                   }\n",
    "            filas.append(fila)"
   ]
  },
  {
   "cell_type": "code",
   "execution_count": 74,
   "id": "f5835b48-767e-4e0f-beef-009e8ef7874a",
   "metadata": {
    "execution": {
     "iopub.execute_input": "2023-10-28T04:45:29.103713Z",
     "iopub.status.busy": "2023-10-28T04:45:29.103330Z",
     "iopub.status.idle": "2023-10-28T04:45:29.145872Z",
     "shell.execute_reply": "2023-10-28T04:45:29.145309Z",
     "shell.execute_reply.started": "2023-10-28T04:45:29.103689Z"
    },
    "tags": []
   },
   "outputs": [],
   "source": [
    "filas = []\n",
    "agregar_filas(filas, \"dataset/cyst\", [1, 0, 0, 0])\n",
    "agregar_filas(filas, \"dataset/stone\", [0, 1, 0, 0])\n",
    "agregar_filas(filas, \"dataset/tumor\", [0, 0, 1, 0])\n",
    "agregar_filas(filas, \"dataset/normal\", [0, 0, 0, 1])\n",
    "\n",
    "columnas = [\"imagen\", \"cyst\", \"stone\", \"tumor\", \"normal\"]\n",
    "\n",
    "# Crea el DataFrame con las filas y nombres de columnas\n",
    "df = pd.DataFrame(filas, columns=columnas)"
   ]
  },
  {
   "cell_type": "code",
   "execution_count": 29,
   "id": "6b226bfd-2963-402a-9273-418dbe27777c",
   "metadata": {
    "execution": {
     "iopub.execute_input": "2023-10-28T03:32:01.419905Z",
     "iopub.status.busy": "2023-10-28T03:32:01.419493Z",
     "iopub.status.idle": "2023-10-28T03:32:01.425070Z",
     "shell.execute_reply": "2023-10-28T03:32:01.424469Z",
     "shell.execute_reply.started": "2023-10-28T03:32:01.419879Z"
    },
    "tags": []
   },
   "outputs": [],
   "source": [
    "def mostrar_grafico_clases(datos, categorias):\n",
    "    \n",
    "    cantidades = []\n",
    "    \n",
    "    for categoria in categorias:\n",
    "        cantidades.append((datos[categoria] == 1).sum())\n",
    "\n",
    "    plt.figure(figsize=(6, 4))\n",
    "    barras = plt.bar(categorias, cantidades)\n",
    "\n",
    "    for bar, cantidad in zip(barras, cantidades):\n",
    "        plt.text(bar.get_x() + bar.get_width() / 2 - 0.1, bar.get_height() / 2 - 550, str(cantidad), fontsize=12)\n",
    "\n",
    "    plt.xlabel(\"Clases\")\n",
    "    plt.ylabel(\"Cantidad de Imágenes\")\n",
    "    plt.title(\"Cantidad de Imágenes por Clase\")\n",
    "\n",
    "    plt.show()"
   ]
  },
  {
   "cell_type": "code",
   "execution_count": 30,
   "id": "1664f144-b8d2-46c4-a86b-02dd4a8c11be",
   "metadata": {
    "execution": {
     "iopub.execute_input": "2023-10-28T03:32:03.100993Z",
     "iopub.status.busy": "2023-10-28T03:32:03.100603Z",
     "iopub.status.idle": "2023-10-28T03:32:03.272729Z",
     "shell.execute_reply": "2023-10-28T03:32:03.272141Z",
     "shell.execute_reply.started": "2023-10-28T03:32:03.100968Z"
    },
    "tags": []
   },
   "outputs": [
    {
     "data": {
      "image/png": "[encoded data removed]",
      "text/plain": [
       "<Figure size 600x400 with 1 Axes>"
      ]
     },
     "metadata": {},
     "output_type": "display_data"
    }
   ],
   "source": [
    "mostrar_grafico_clases(df, columnas[1:])"
   ]
  },
  {
   "cell_type": "code",
   "execution_count": 76,
   "id": "03630173-c7ae-4322-8f2d-39f0c2eecc0a",
   "metadata": {
    "execution": {
     "iopub.execute_input": "2023-10-28T04:47:00.249215Z",
     "iopub.status.busy": "2023-10-28T04:47:00.248536Z",
     "iopub.status.idle": "2023-10-28T04:47:00.283426Z",
     "shell.execute_reply": "2023-10-28T04:47:00.282808Z",
     "shell.execute_reply.started": "2023-10-28T04:47:00.249189Z"
    },
    "tags": []
   },
   "outputs": [],
   "source": [
    "cant_imagenes = 2939\n",
    "\n",
    "dataFrame = pd.DataFrame()\n",
    "\n",
    "for i in range(1, 5):\n",
    "    dataFrame = pd.concat([dataFrame, df.query(columnas[i] + \"== 1\")[:cant_imagenes]])\n",
    "    \n",
    "# Mezclar\n",
    "dataFrame = dataFrame.sample(frac=1)\n",
    "\n",
    "# Exporta el DataFrame en un archivo CSV\n",
    "dataFrame.to_csv(\"./dataset/datos.csv\", index=False)"
   ]
  },
  {
   "cell_type": "code",
   "execution_count": 54,
   "id": "45f3d3fb-77ee-4bd0-b4aa-3a2c86d78478",
   "metadata": {
    "execution": {
     "iopub.execute_input": "2023-10-28T04:14:44.706425Z",
     "iopub.status.busy": "2023-10-28T04:14:44.706045Z",
     "iopub.status.idle": "2023-10-28T04:14:44.718152Z",
     "shell.execute_reply": "2023-10-28T04:14:44.717604Z",
     "shell.execute_reply.started": "2023-10-28T04:14:44.706401Z"
    },
    "tags": []
   },
   "outputs": [],
   "source": [
    "df_eliminar = pd.DataFrame()\n",
    "\n",
    "for i in range(1, 5):\n",
    "    df_eliminar = pd.concat([df_eliminar, df.query(columnas[i] + \"== 1\")[cant_imagenes:]])\n",
    "    \n",
    "archivos_a_eliminar = df_eliminar[\"imagen\"]"
   ]
  },
  {
   "cell_type": "code",
   "execution_count": 55,
   "id": "2a9cf4a5-1cf7-4fa0-98f8-80318a4f8445",
   "metadata": {
    "execution": {
     "iopub.execute_input": "2023-10-28T04:14:45.701250Z",
     "iopub.status.busy": "2023-10-28T04:14:45.700864Z",
     "iopub.status.idle": "2023-10-28T04:14:45.707147Z",
     "shell.execute_reply": "2023-10-28T04:14:45.706450Z",
     "shell.execute_reply.started": "2023-10-28T04:14:45.701227Z"
    },
    "tags": []
   },
   "outputs": [
    {
     "data": {
      "text/plain": [
       "2939         dataset/cyst/Cyst- (2517).jpg\n",
       "2940         dataset/cyst/Cyst- (2033).jpg\n",
       "2941         dataset/cyst/Cyst- (2230).jpg\n",
       "2942         dataset/cyst/Cyst- (2041).jpg\n",
       "2943         dataset/cyst/Cyst- (1433).jpg\n",
       "                       ...                \n",
       "20840     dataset/normal/Normal- (257).jpg\n",
       "20841    dataset/normal/Normal- (1165).jpg\n",
       "20842    dataset/normal/Normal- (2833).jpg\n",
       "20843    dataset/normal/Normal- (3787).jpg\n",
       "20844    dataset/normal/Normal- (3935).jpg\n",
       "Name: imagen, Length: 9089, dtype: object"
      ]
     },
     "execution_count": 55,
     "metadata": {},
     "output_type": "execute_result"
    }
   ],
   "source": [
    "archivos_a_eliminar"
   ]
  },
  {
   "cell_type": "code",
   "execution_count": 56,
   "id": "a12767b6-8954-4b4d-9620-2f27bd281c0c",
   "metadata": {
    "execution": {
     "iopub.execute_input": "2023-10-28T04:14:52.580528Z",
     "iopub.status.busy": "2023-10-28T04:14:52.580129Z",
     "iopub.status.idle": "2023-10-28T04:14:52.847776Z",
     "shell.execute_reply": "2023-10-28T04:14:52.847146Z",
     "shell.execute_reply.started": "2023-10-28T04:14:52.580504Z"
    },
    "tags": []
   },
   "outputs": [],
   "source": [
    "for archivo in archivos_a_eliminar:\n",
    "    os.remove(archivo)"
   ]
  },
  {
   "cell_type": "code",
   "execution_count": 57,
   "id": "800fe0e9-d4de-451a-afae-983e3b83d233",
   "metadata": {
    "execution": {
     "iopub.execute_input": "2023-10-28T04:15:19.944873Z",
     "iopub.status.busy": "2023-10-28T04:15:19.944490Z",
     "iopub.status.idle": "2023-10-28T04:15:19.954370Z",
     "shell.execute_reply": "2023-10-28T04:15:19.953817Z",
     "shell.execute_reply.started": "2023-10-28T04:15:19.944850Z"
    },
    "tags": []
   },
   "outputs": [
    {
     "name": "stdout",
     "output_type": "stream",
     "text": [
      "2939\n",
      "2939\n",
      "2939\n",
      "2939\n"
     ]
    }
   ],
   "source": [
    "print(len(os.listdir(\"dataset/cyst\")))\n",
    "print(len(os.listdir(\"dataset/normal\")))\n",
    "print(len(os.listdir(\"dataset/stone\")))\n",
    "print(len(os.listdir(\"dataset/tumor\")))"
   ]
  },
  {
   "cell_type": "code",
   "execution_count": 58,
   "id": "1c6596b2-7a46-4e05-b40d-645a4df5a272",
   "metadata": {
    "execution": {
     "iopub.execute_input": "2023-10-28T04:16:05.889815Z",
     "iopub.status.busy": "2023-10-28T04:16:05.889432Z",
     "iopub.status.idle": "2023-10-28T04:16:05.893497Z",
     "shell.execute_reply": "2023-10-28T04:16:05.892865Z",
     "shell.execute_reply.started": "2023-10-28T04:16:05.889790Z"
    },
    "tags": []
   },
   "outputs": [],
   "source": [
    "def es_imagen(archivo):\n",
    "    return archivo.endswith(('.jpg', '.jpeg', '.png'))"
   ]
  },
  {
   "cell_type": "code",
   "execution_count": 72,
   "id": "e8c3f592-2494-480c-9d04-7816095adb80",
   "metadata": {
    "execution": {
     "iopub.execute_input": "2023-10-28T04:42:35.567718Z",
     "iopub.status.busy": "2023-10-28T04:42:35.567338Z",
     "iopub.status.idle": "2023-10-28T04:42:35.572988Z",
     "shell.execute_reply": "2023-10-28T04:42:35.572430Z",
     "shell.execute_reply.started": "2023-10-28T04:42:35.567695Z"
    },
    "tags": []
   },
   "outputs": [],
   "source": [
    "def refinar_imagenes(ruta_carpeta, tamaño_imagenes, tipo):\n",
    "    num_imagen = 0\n",
    "    archivos = os.listdir(ruta_carpeta)\n",
    "    for archivo in archivos:\n",
    "        if es_imagen(archivo):\n",
    "\n",
    "            # Leemos la imagen\n",
    "            ruta_imagen = os.path.join(ruta_carpeta, archivo)\n",
    "            imagen = cv2.imread(ruta_imagen)\n",
    "            \n",
    "            # Le cambiamos el tamaño\n",
    "            imagen = cv2.resize(imagen, (tamaño_imagenes, tamaño_imagenes))\n",
    "            imagen = imagen.reshape(tamaño_imagenes, tamaño_imagenes, 3)\n",
    "\n",
    "            # Guardamos la imagen\n",
    "            cv2.imwrite(ruta_imagen, imagen)\n",
    "            \n",
    "            # Renombramos la imagen\n",
    "            os.rename(ruta_imagen, ruta_carpeta + \"/kidney-\" + tipo + \"-\" + \"0\" * (4 - len(str(num_imagen))) + str(num_imagen) + archivo[-4:])\n",
    "            num_imagen += 1"
   ]
  },
  {
   "cell_type": "code",
   "execution_count": 73,
   "id": "ec80a7e8-a2a5-4cb8-ae7f-43a4dfae5d9d",
   "metadata": {
    "execution": {
     "iopub.execute_input": "2023-10-28T04:42:40.592931Z",
     "iopub.status.busy": "2023-10-28T04:42:40.592551Z",
     "iopub.status.idle": "2023-10-28T04:43:12.079767Z",
     "shell.execute_reply": "2023-10-28T04:43:12.079136Z",
     "shell.execute_reply.started": "2023-10-28T04:42:40.592907Z"
    },
    "tags": []
   },
   "outputs": [],
   "source": [
    "refinar_imagenes(\"./dataset/cyst\", 224, \"cyst\")\n",
    "refinar_imagenes(\"./dataset/stone\", 224, \"stone\")\n",
    "refinar_imagenes(\"./dataset/tumor\", 224, \"tumor\")\n",
    "refinar_imagenes(\"./dataset/normal\", 224, \"normal\")"
   ]
  }
 ],
 "metadata": {
  "kernelspec": {
   "display_name": "saturn (Python 3)",
   "language": "python",
   "name": "python3"
  },
  "language_info": {
   "codemirror_mode": {
    "name": "ipython",
    "version": 3
   },
   "file_extension": ".py",
   "mimetype": "text/x-python",
   "name": "python",
   "nbconvert_exporter": "python",
   "pygments_lexer": "ipython3",
   "version": "3.9.17"
  }
 },
 "nbformat": 4,
 "nbformat_minor": 5
}
