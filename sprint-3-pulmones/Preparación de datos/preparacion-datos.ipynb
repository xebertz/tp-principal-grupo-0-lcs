{
 "cells": [
  {
   "cell_type": "code",
   "execution_count": 85,
   "id": "b217eca3-a6a6-4cc9-a33d-623960fcd55d",
   "metadata": {
    "execution": {
     "iopub.execute_input": "2023-10-17T00:02:36.658921Z",
     "iopub.status.busy": "2023-10-17T00:02:36.658511Z",
     "iopub.status.idle": "2023-10-17T00:02:36.663066Z",
     "shell.execute_reply": "2023-10-17T00:02:36.662451Z",
     "shell.execute_reply.started": "2023-10-17T00:02:36.658891Z"
    },
    "tags": []
   },
   "outputs": [],
   "source": [
    "import os\n",
    "import cv2\n",
    "import matplotlib.pyplot as plt\n",
    "import numpy as np\n",
    "import opendatasets as od\n",
    "from PIL import Image\n",
    "import pandas as pd\n",
    "\n",
    "os.environ['TF_CPP_MIN_LOG_LEVEL'] = '1'"
   ]
  },
  {
   "cell_type": "code",
   "execution_count": 86,
   "id": "268667c4-17fe-46bb-a7c1-1a93fe13e1ef",
   "metadata": {
    "execution": {
     "iopub.execute_input": "2023-10-17T00:02:37.535802Z",
     "iopub.status.busy": "2023-10-17T00:02:37.535397Z",
     "iopub.status.idle": "2023-10-17T00:03:22.623952Z",
     "shell.execute_reply": "2023-10-17T00:03:22.623307Z",
     "shell.execute_reply.started": "2023-10-17T00:02:37.535775Z"
    },
    "tags": []
   },
   "outputs": [
    {
     "name": "stdout",
     "output_type": "stream",
     "text": [
      "Please provide your Kaggle credentials to download this dataset. Learn more: http://bit.ly/kaggle-creds\n",
      "Your Kaggle username:"
     ]
    },
    {
     "name": "stdin",
     "output_type": "stream",
     "text": [
      "  gonzajl\n"
     ]
    },
    {
     "name": "stdout",
     "output_type": "stream",
     "text": [
      "Your Kaggle Key:"
     ]
    },
    {
     "name": "stdin",
     "output_type": "stream",
     "text": [
      "  ········\n"
     ]
    },
    {
     "name": "stdout",
     "output_type": "stream",
     "text": [
      "Downloading pneumonia-xray-images.zip to ./pneumonia-xray-images\n"
     ]
    },
    {
     "name": "stderr",
     "output_type": "stream",
     "text": [
      "100%|██████████| 1.14G/1.14G [00:18<00:00, 66.6MB/s]\n"
     ]
    },
    {
     "name": "stdout",
     "output_type": "stream",
     "text": [
      "\n"
     ]
    }
   ],
   "source": [
    "od.download(\"https://www.kaggle.com/datasets/pcbreviglieri/pneumonia-xray-images?select=train\")"
   ]
  },
  {
   "cell_type": "code",
   "execution_count": 87,
   "id": "ab06fa13-d5ef-4b0a-bd3a-043f99a4b3f9",
   "metadata": {
    "execution": {
     "iopub.execute_input": "2023-10-17T00:03:23.617944Z",
     "iopub.status.busy": "2023-10-17T00:03:23.617553Z",
     "iopub.status.idle": "2023-10-17T00:04:15.907456Z",
     "shell.execute_reply": "2023-10-17T00:04:15.906834Z",
     "shell.execute_reply.started": "2023-10-17T00:03:23.617920Z"
    },
    "tags": []
   },
   "outputs": [
    {
     "name": "stdout",
     "output_type": "stream",
     "text": [
      "Please provide your Kaggle credentials to download this dataset. Learn more: http://bit.ly/kaggle-creds\n",
      "Your Kaggle username:"
     ]
    },
    {
     "name": "stdin",
     "output_type": "stream",
     "text": [
      "  gonzajl\n"
     ]
    },
    {
     "name": "stdout",
     "output_type": "stream",
     "text": [
      "Your Kaggle Key:"
     ]
    },
    {
     "name": "stdin",
     "output_type": "stream",
     "text": [
      "  ········\n"
     ]
    },
    {
     "name": "stdout",
     "output_type": "stream",
     "text": [
      "Downloading beginner-chest-xray-image-classification.zip to ./beginner-chest-xray-image-classification\n"
     ]
    },
    {
     "name": "stderr",
     "output_type": "stream",
     "text": [
      "100%|██████████| 2.08G/2.08G [00:30<00:00, 73.2MB/s]\n"
     ]
    },
    {
     "name": "stdout",
     "output_type": "stream",
     "text": [
      "\n"
     ]
    }
   ],
   "source": [
    "od.download(\"https://www.kaggle.com/datasets/vivek468/beginner-chest-xray-image-classification\")"
   ]
  },
  {
   "cell_type": "code",
   "execution_count": 90,
   "id": "5082dbcb-cbcb-44d7-9f1d-8c0945115222",
   "metadata": {
    "execution": {
     "iopub.execute_input": "2023-10-17T00:07:17.909796Z",
     "iopub.status.busy": "2023-10-17T00:07:17.909386Z",
     "iopub.status.idle": "2023-10-17T00:07:27.584162Z",
     "shell.execute_reply": "2023-10-17T00:07:27.583262Z",
     "shell.execute_reply.started": "2023-10-17T00:07:17.909766Z"
    },
    "tags": []
   },
   "outputs": [],
   "source": [
    "!mkdir dataset\n",
    "!mkdir dataset/neumonia\n",
    "!mkdir dataset/no-neumonia\n",
    "\n",
    "!mv ./beginner-chest-xray-image-classification/chest_xray/pred/NORMAL/* ./dataset/no-neumonia\n",
    "!mv ./beginner-chest-xray-image-classification/chest_xray/test/NORMAL/* ./dataset/no-neumonia\n",
    "!mv ./beginner-chest-xray-image-classification/chest_xray/train/NORMAL/* ./dataset/no-neumonia\n",
    "\n",
    "!mv ./beginner-chest-xray-image-classification/chest_xray/pred/PNEUMONIA/* ./dataset/neumonia\n",
    "!mv ./beginner-chest-xray-image-classification/chest_xray/test/PNEUMONIA/* ./dataset/neumonia\n",
    "!mv ./beginner-chest-xray-image-classification/chest_xray/train/PNEUMONIA/* ./dataset/neumonia\n",
    "\n",
    "!mv ./pneumonia-xray-images/test/normal/* ./dataset/no-neumonia\n",
    "!mv ./pneumonia-xray-images/train/normal/* ./dataset/no-neumonia\n",
    "!mv ./pneumonia-xray-images/val/normal/* ./dataset/no-neumonia\n",
    "\n",
    "!mv ./pneumonia-xray-images/test/opacity/* ./dataset/neumonia\n",
    "!mv ./pneumonia-xray-images/train/opacity/* ./dataset/neumonia\n",
    "!mv ./pneumonia-xray-images/val/opacity/* ./dataset/neumonia"
   ]
  },
  {
   "cell_type": "code",
   "execution_count": 91,
   "id": "a5d17b43-ee27-4740-8310-4d9106f6d335",
   "metadata": {
    "execution": {
     "iopub.execute_input": "2023-10-17T00:07:46.318851Z",
     "iopub.status.busy": "2023-10-17T00:07:46.318437Z",
     "iopub.status.idle": "2023-10-17T00:07:46.323073Z",
     "shell.execute_reply": "2023-10-17T00:07:46.322310Z",
     "shell.execute_reply.started": "2023-10-17T00:07:46.318820Z"
    },
    "tags": []
   },
   "outputs": [],
   "source": [
    "def es_imagen(archivo):\n",
    "    return archivo.endswith(('.jpg', '.jpeg', '.png'))"
   ]
  },
  {
   "cell_type": "code",
   "execution_count": 92,
   "id": "6c082c5b-b166-4df5-a4f7-16bc1d84afa2",
   "metadata": {
    "execution": {
     "iopub.execute_input": "2023-10-17T00:07:49.487631Z",
     "iopub.status.busy": "2023-10-17T00:07:49.487114Z",
     "iopub.status.idle": "2023-10-17T00:07:49.492490Z",
     "shell.execute_reply": "2023-10-17T00:07:49.491713Z",
     "shell.execute_reply.started": "2023-10-17T00:07:49.487607Z"
    },
    "tags": []
   },
   "outputs": [],
   "source": [
    "def refinar_imagenes(ruta_carpeta, tamaño_imagenes):\n",
    "    for archivo in os.listdir(ruta_carpeta):\n",
    "        if es_imagen(archivo):\n",
    "\n",
    "            # Leemos la imagen\n",
    "            ruta_imagen = os.path.join(ruta_carpeta, archivo)\n",
    "            imagen = cv2.imread(ruta_imagen)\n",
    "            \n",
    "            # Le cambiamos el tamaño\n",
    "            imagen = cv2.resize(imagen, (tamaño_imagenes, tamaño_imagenes))\n",
    "            imagen = imagen.reshape(tamaño_imagenes, tamaño_imagenes, 3)\n",
    "\n",
    "            # Guardamos la imagen\n",
    "            cv2.imwrite(ruta_imagen, imagen)"
   ]
  },
  {
   "cell_type": "code",
   "execution_count": 93,
   "id": "fcbc37cf-e060-45c6-a4a1-2bbaa34891ee",
   "metadata": {
    "execution": {
     "iopub.execute_input": "2023-10-17T00:07:51.793367Z",
     "iopub.status.busy": "2023-10-17T00:07:51.792984Z",
     "iopub.status.idle": "2023-10-17T00:11:30.067257Z",
     "shell.execute_reply": "2023-10-17T00:11:30.066620Z",
     "shell.execute_reply.started": "2023-10-17T00:07:51.793343Z"
    },
    "tags": []
   },
   "outputs": [],
   "source": [
    "refinar_imagenes(\"./dataset/neumonia\", 224)\n",
    "refinar_imagenes(\"./dataset/no-neumonia\", 224)"
   ]
  },
  {
   "cell_type": "code",
   "execution_count": 94,
   "id": "c645e151-bfbd-45b3-ae97-4875d925e39d",
   "metadata": {
    "execution": {
     "iopub.execute_input": "2023-10-17T00:12:12.260220Z",
     "iopub.status.busy": "2023-10-17T00:12:12.259831Z",
     "iopub.status.idle": "2023-10-17T00:12:12.264297Z",
     "shell.execute_reply": "2023-10-17T00:12:12.263717Z",
     "shell.execute_reply.started": "2023-10-17T00:12:12.260196Z"
    },
    "tags": []
   },
   "outputs": [],
   "source": [
    "def agregar_filas(filas, ruta_carpeta, etiquetas):\n",
    "    for archivo in os.listdir(ruta_carpeta):\n",
    "        if es_imagen(archivo):\n",
    "            ruta_imagen = os.path.join(ruta_carpeta, archivo)\n",
    "            fila = {\"imagen\": ruta_imagen, \"neumonia\": etiquetas[0], \"no_neumonia\": etiquetas[1]}\n",
    "            filas.append(fila)"
   ]
  },
  {
   "cell_type": "code",
   "execution_count": 101,
   "id": "2bbc474f-dbe5-4ede-875a-bef42407792b",
   "metadata": {
    "execution": {
     "iopub.execute_input": "2023-10-17T00:14:18.835576Z",
     "iopub.status.busy": "2023-10-17T00:14:18.835183Z",
     "iopub.status.idle": "2023-10-17T00:14:18.900461Z",
     "shell.execute_reply": "2023-10-17T00:14:18.899912Z",
     "shell.execute_reply.started": "2023-10-17T00:14:18.835552Z"
    },
    "tags": []
   },
   "outputs": [],
   "source": [
    "filas = []\n",
    "agregar_filas(filas, \"dataset/neumonia\", [1, 0])\n",
    "agregar_filas(filas, \"dataset/no-neumonia\", [0, 1])\n",
    "\n",
    "columnas = [\"imagen\", \"neumonia\", \"no_neumonia\"]\n",
    "\n",
    "# Crea el DataFrame con las filas y nombres de columnas\n",
    "df = pd.DataFrame(filas, columns=columnas)\n",
    "df = df.sample(frac=1)\n",
    "df = df.sample(frac=1)\n",
    "df = df.sample(frac=1)\n",
    "\n",
    "# Exporta el DataFrame en un archivo CSV\n",
    "df.to_csv(\"./dataset/datos.csv\", index=False)"
   ]
  },
  {
   "cell_type": "code",
   "execution_count": 102,
   "id": "f0160819-3dc8-44f0-8780-19c63fd343ba",
   "metadata": {
    "execution": {
     "iopub.execute_input": "2023-10-17T00:14:22.097614Z",
     "iopub.status.busy": "2023-10-17T00:14:22.097225Z",
     "iopub.status.idle": "2023-10-17T00:14:22.102785Z",
     "shell.execute_reply": "2023-10-17T00:14:22.102220Z",
     "shell.execute_reply.started": "2023-10-17T00:14:22.097588Z"
    },
    "tags": []
   },
   "outputs": [],
   "source": [
    "def mostrar_grafico_clases(datos):\n",
    "    cant_neumonia = (datos[\"neumonia\"] == 1).sum()\n",
    "    cant_no_neumonia = (datos[\"no_neumonia\"] == 1).sum()\n",
    "\n",
    "    categorias = [\"neumonia\", \"no_neumonia\"]\n",
    "    cantidades = [cant_neumonia, cant_no_neumonia]\n",
    "\n",
    "    plt.figure(figsize=(6, 4))\n",
    "    barras = plt.bar(categorias, cantidades)\n",
    "\n",
    "    for bar, cantidad in zip(barras, cantidades):\n",
    "        plt.text(bar.get_x() + bar.get_width() / 2 - 0.1, bar.get_height() / 2 - 550, str(cantidad), fontsize=12)\n",
    "\n",
    "    plt.xlabel(\"Clases\")\n",
    "    plt.ylabel(\"Cantidad de Imágenes\")\n",
    "    plt.title(\"Cantidad de Imágenes por Clase\")\n",
    "\n",
    "    plt.show()"
   ]
  },
  {
   "cell_type": "code",
   "execution_count": 103,
   "id": "0814800e-f552-4568-8b88-f412f1df4214",
   "metadata": {
    "execution": {
     "iopub.execute_input": "2023-10-17T00:14:24.744483Z",
     "iopub.status.busy": "2023-10-17T00:14:24.743729Z",
     "iopub.status.idle": "2023-10-17T00:14:24.836933Z",
     "shell.execute_reply": "2023-10-17T00:14:24.836224Z",
     "shell.execute_reply.started": "2023-10-17T00:14:24.744459Z"
    },
    "tags": []
   },
   "outputs": [
    {
     "data": {
      "image/png": "[encoded data removed]",
      "text/plain": [
       "<Figure size 600x400 with 1 Axes>"
      ]
     },
     "metadata": {},
     "output_type": "display_data"
    }
   ],
   "source": [
    "mostrar_grafico_clases(df)"
   ]
  },
  {
   "cell_type": "code",
   "execution_count": 104,
   "id": "75fc3c6a-eb7c-47d1-b584-96d950aa7c55",
   "metadata": {
    "execution": {
     "iopub.execute_input": "2023-10-17T00:14:30.013182Z",
     "iopub.status.busy": "2023-10-17T00:14:30.012648Z",
     "iopub.status.idle": "2023-10-17T00:14:30.022903Z",
     "shell.execute_reply": "2023-10-17T00:14:30.022357Z",
     "shell.execute_reply.started": "2023-10-17T00:14:30.013156Z"
    },
    "tags": []
   },
   "outputs": [],
   "source": [
    "cant_imagenes = 5249\n",
    "\n",
    "df_neumonia = df[df.neumonia == 1][:cant_imagenes]\n",
    "df_no_neumonia = df[df.no_neumonia == 1][:cant_imagenes]\n",
    "\n",
    "archivos_a_eliminar = pd.concat([df[df.neumonia == 1][cant_imagenes:], df[df.no_neumonia == 1][cant_imagenes:]])\n",
    "archivos_a_eliminar = archivos_a_eliminar[\"imagen\"]\n",
    "\n",
    "# Concatena los DataFrames filtrados\n",
    "df = pd.concat([df_neumonia, df_no_neumonia])"
   ]
  },
  {
   "cell_type": "code",
   "execution_count": 105,
   "id": "da93659b-e93c-4f26-80ad-460aca5a76f4",
   "metadata": {
    "execution": {
     "iopub.execute_input": "2023-10-17T00:14:33.998694Z",
     "iopub.status.busy": "2023-10-17T00:14:33.998295Z",
     "iopub.status.idle": "2023-10-17T00:14:34.085368Z",
     "shell.execute_reply": "2023-10-17T00:14:34.084532Z",
     "shell.execute_reply.started": "2023-10-17T00:14:33.998671Z"
    },
    "tags": []
   },
   "outputs": [
    {
     "data": {
      "image/png": "[encoded data removed]",
      "text/plain": [
       "<Figure size 600x400 with 1 Axes>"
      ]
     },
     "metadata": {},
     "output_type": "display_data"
    }
   ],
   "source": [
    "mostrar_grafico_clases(df)"
   ]
  },
  {
   "cell_type": "code",
   "execution_count": 106,
   "id": "6efc61ed-ff64-4ff5-b699-eb7f2edc3426",
   "metadata": {
    "execution": {
     "iopub.execute_input": "2023-10-17T00:14:35.790735Z",
     "iopub.status.busy": "2023-10-17T00:14:35.790249Z",
     "iopub.status.idle": "2023-10-17T00:14:35.796893Z",
     "shell.execute_reply": "2023-10-17T00:14:35.796179Z",
     "shell.execute_reply.started": "2023-10-17T00:14:35.790705Z"
    },
    "tags": []
   },
   "outputs": [
    {
     "data": {
      "text/plain": [
       "6575    dataset/neumonia/person1155_bacteria_3100.jpeg\n",
       "596               dataset/neumonia/PNEUMONIA_1100.jpeg\n",
       "922          dataset/neumonia/person140_virus_284.jpeg\n",
       "4475     dataset/neumonia/person343_bacteria_1584.jpeg\n",
       "6162         dataset/neumonia/person354_virus_729.jpeg\n",
       "                             ...                      \n",
       "6170      dataset/neumonia/person127_bacteria_603.jpeg\n",
       "7074               dataset/neumonia/PNEUMONIA_848.jpeg\n",
       "4709         dataset/neumonia/person326_virus_675.jpeg\n",
       "542               dataset/neumonia/PNEUMONIA_3114.jpeg\n",
       "6056              dataset/neumonia/PNEUMONIA_1554.jpeg\n",
       "Name: imagen, Length: 3293, dtype: object"
      ]
     },
     "execution_count": 106,
     "metadata": {},
     "output_type": "execute_result"
    }
   ],
   "source": [
    "archivos_a_eliminar"
   ]
  },
  {
   "cell_type": "code",
   "execution_count": 107,
   "id": "0afb6ba2-d301-400b-920d-d322d2e795e8",
   "metadata": {
    "execution": {
     "iopub.execute_input": "2023-10-17T00:15:01.257663Z",
     "iopub.status.busy": "2023-10-17T00:15:01.257281Z",
     "iopub.status.idle": "2023-10-17T00:15:01.316117Z",
     "shell.execute_reply": "2023-10-17T00:15:01.315482Z",
     "shell.execute_reply.started": "2023-10-17T00:15:01.257640Z"
    },
    "tags": []
   },
   "outputs": [],
   "source": [
    "for archivo in archivos_a_eliminar:\n",
    "    os.remove(archivo)"
   ]
  },
  {
   "cell_type": "code",
   "execution_count": 108,
   "id": "2416e0a0-945a-4e88-b8a0-31f82a41afda",
   "metadata": {
    "execution": {
     "iopub.execute_input": "2023-10-17T00:15:10.447781Z",
     "iopub.status.busy": "2023-10-17T00:15:10.447365Z",
     "iopub.status.idle": "2023-10-17T00:15:10.456165Z",
     "shell.execute_reply": "2023-10-17T00:15:10.455621Z",
     "shell.execute_reply.started": "2023-10-17T00:15:10.447757Z"
    },
    "tags": []
   },
   "outputs": [
    {
     "name": "stdout",
     "output_type": "stream",
     "text": [
      "5249\n",
      "5249\n"
     ]
    }
   ],
   "source": [
    "print(len(os.listdir(\"./dataset/neumonia\")))\n",
    "print(len(os.listdir(\"./dataset/no-neumonia\")))"
   ]
  }
 ],
 "metadata": {
  "kernelspec": {
   "display_name": "saturn (Python 3)",
   "language": "python",
   "name": "python3"
  },
  "language_info": {
   "codemirror_mode": {
    "name": "ipython",
    "version": 3
   },
   "file_extension": ".py",
   "mimetype": "text/x-python",
   "name": "python",
   "nbconvert_exporter": "python",
   "pygments_lexer": "ipython3",
   "version": "3.9.17"
  }
 },
 "nbformat": 4,
 "nbformat_minor": 5
}
