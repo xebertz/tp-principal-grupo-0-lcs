{
 "cells": [
  {
   "cell_type": "code",
   "execution_count": 1,
   "id": "c6ad766c-d246-4f81-98eb-ec01fdba09fb",
   "metadata": {
    "execution": {
     "iopub.execute_input": "2023-10-20T17:19:09.441510Z",
     "iopub.status.busy": "2023-10-20T17:19:09.441297Z",
     "iopub.status.idle": "2023-10-20T17:19:12.225637Z",
     "shell.execute_reply": "2023-10-20T17:19:12.225008Z",
     "shell.execute_reply.started": "2023-10-20T17:19:09.441489Z"
    },
    "id": "c6ad766c-d246-4f81-98eb-ec01fdba09fb",
    "tags": []
   },
   "outputs": [
    {
     "name": "stderr",
     "output_type": "stream",
     "text": [
      "2023-10-20 17:19:09.822335: I tensorflow/tsl/cuda/cudart_stub.cc:28] Could not find cuda drivers on your machine, GPU will not be used.\n",
      "2023-10-20 17:19:09.865840: E tensorflow/compiler/xla/stream_executor/cuda/cuda_dnn.cc:9342] Unable to register cuDNN factory: Attempting to register factory for plugin cuDNN when one has already been registered\n",
      "2023-10-20 17:19:09.865877: E tensorflow/compiler/xla/stream_executor/cuda/cuda_fft.cc:609] Unable to register cuFFT factory: Attempting to register factory for plugin cuFFT when one has already been registered\n",
      "2023-10-20 17:19:09.865903: E tensorflow/compiler/xla/stream_executor/cuda/cuda_blas.cc:1518] Unable to register cuBLAS factory: Attempting to register factory for plugin cuBLAS when one has already been registered\n",
      "2023-10-20 17:19:09.873352: I tensorflow/tsl/cuda/cudart_stub.cc:28] Could not find cuda drivers on your machine, GPU will not be used.\n",
      "2023-10-20 17:19:09.873919: I tensorflow/core/platform/cpu_feature_guard.cc:182] This TensorFlow binary is optimized to use available CPU instructions in performance-critical operations.\n",
      "To enable the following instructions: AVX2 AVX512F FMA, in other operations, rebuild TensorFlow with the appropriate compiler flags.\n",
      "2023-10-20 17:19:10.715316: W tensorflow/compiler/tf2tensorrt/utils/py_utils.cc:38] TF-TRT Warning: Could not find TensorRT\n",
      "/opt/saturncloud/envs/saturn/lib/python3.9/site-packages/scipy/__init__.py:146: UserWarning: A NumPy version >=1.17.3 and <1.25.0 is required for this version of SciPy (detected version 1.26.1\n",
      "  warnings.warn(f\"A NumPy version >={np_minversion} and <{np_maxversion}\"\n"
     ]
    }
   ],
   "source": [
    "import os\n",
    "import cv2\n",
    "import numpy as np\n",
    "import tensorflow as tf\n",
    "import opendatasets as od\n",
    "import pandas as pd\n",
    "from tensorflow.keras.optimizers import Adam\n",
    "import matplotlib.pyplot as plt"
   ]
  },
  {
   "cell_type": "code",
   "execution_count": 2,
   "id": "3eb0ac8a-3272-45e1-b644-a618933246ed",
   "metadata": {
    "execution": {
     "iopub.execute_input": "2023-10-20T17:19:12.227529Z",
     "iopub.status.busy": "2023-10-20T17:19:12.227067Z",
     "iopub.status.idle": "2023-10-20T17:19:12.231195Z",
     "shell.execute_reply": "2023-10-20T17:19:12.230636Z",
     "shell.execute_reply.started": "2023-10-20T17:19:12.227506Z"
    },
    "id": "3eb0ac8a-3272-45e1-b644-a618933246ed",
    "outputId": "d3c38953-9919-49fc-c0f1-8c56cfa9c8b9",
    "tags": []
   },
   "outputs": [
    {
     "name": "stdout",
     "output_type": "stream",
     "text": [
      "Skipping, found downloaded files in \"./neumona-x-rays-dataset\" (use force=True to force download)\n"
     ]
    }
   ],
   "source": [
    "od.download(\"https://www.kaggle.com/datasets/gonzajl/neumona-x-rays-dataset\")"
   ]
  },
  {
   "cell_type": "code",
   "execution_count": 3,
   "id": "cae4902f-63e5-4008-9494-ee0a7d03b2a4",
   "metadata": {
    "execution": {
     "iopub.execute_input": "2023-10-20T17:19:12.232230Z",
     "iopub.status.busy": "2023-10-20T17:19:12.231941Z",
     "iopub.status.idle": "2023-10-20T17:19:12.247247Z",
     "shell.execute_reply": "2023-10-20T17:19:12.246735Z",
     "shell.execute_reply.started": "2023-10-20T17:19:12.232210Z"
    }
   },
   "outputs": [],
   "source": [
    "datos = pd.read_csv('neumona-x-rays-dataset/dataset/datos.csv')"
   ]
  },
  {
   "cell_type": "code",
   "execution_count": 4,
   "id": "940dccf8-6d60-494a-b60f-184a3c8938fa",
   "metadata": {
    "execution": {
     "iopub.execute_input": "2023-10-20T17:19:12.248271Z",
     "iopub.status.busy": "2023-10-20T17:19:12.247964Z",
     "iopub.status.idle": "2023-10-20T17:19:12.259008Z",
     "shell.execute_reply": "2023-10-20T17:19:12.258504Z",
     "shell.execute_reply.started": "2023-10-20T17:19:12.248252Z"
    },
    "id": "940dccf8-6d60-494a-b60f-184a3c8938fa",
    "tags": []
   },
   "outputs": [
    {
     "data": {
      "text/html": [
       "<div>\n",
       "<style scoped>\n",
       "    .dataframe tbody tr th:only-of-type {\n",
       "        vertical-align: middle;\n",
       "    }\n",
       "\n",
       "    .dataframe tbody tr th {\n",
       "        vertical-align: top;\n",
       "    }\n",
       "\n",
       "    .dataframe thead th {\n",
       "        text-align: right;\n",
       "    }\n",
       "</style>\n",
       "<table border=\"1\" class=\"dataframe\">\n",
       "  <thead>\n",
       "    <tr style=\"text-align: right;\">\n",
       "      <th></th>\n",
       "      <th>imagen</th>\n",
       "      <th>neumonia</th>\n",
       "      <th>no_neumonia</th>\n",
       "    </tr>\n",
       "  </thead>\n",
       "  <tbody>\n",
       "    <tr>\n",
       "      <th>0</th>\n",
       "      <td>dataset/neumonia/PNEUMONIA_3336.jpeg</td>\n",
       "      <td>1</td>\n",
       "      <td>0</td>\n",
       "    </tr>\n",
       "    <tr>\n",
       "      <th>1</th>\n",
       "      <td>dataset/no-neumonia/NORMAL2-IM-1149-0001.jpeg</td>\n",
       "      <td>0</td>\n",
       "      <td>1</td>\n",
       "    </tr>\n",
       "    <tr>\n",
       "      <th>2</th>\n",
       "      <td>dataset/no-neumonia/NORMAL_2030.jpeg</td>\n",
       "      <td>0</td>\n",
       "      <td>1</td>\n",
       "    </tr>\n",
       "    <tr>\n",
       "      <th>3</th>\n",
       "      <td>dataset/neumonia/PNEUMONIA_2178.jpeg</td>\n",
       "      <td>1</td>\n",
       "      <td>0</td>\n",
       "    </tr>\n",
       "    <tr>\n",
       "      <th>4</th>\n",
       "      <td>dataset/neumonia/BACTERIA-7720431-0001.jpeg</td>\n",
       "      <td>1</td>\n",
       "      <td>0</td>\n",
       "    </tr>\n",
       "    <tr>\n",
       "      <th>...</th>\n",
       "      <td>...</td>\n",
       "      <td>...</td>\n",
       "      <td>...</td>\n",
       "    </tr>\n",
       "    <tr>\n",
       "      <th>10493</th>\n",
       "      <td>dataset/no-neumonia/IM-0501-0001.jpeg</td>\n",
       "      <td>0</td>\n",
       "      <td>1</td>\n",
       "    </tr>\n",
       "    <tr>\n",
       "      <th>10494</th>\n",
       "      <td>dataset/neumonia/person1921_bacteria_4828.jpeg</td>\n",
       "      <td>1</td>\n",
       "      <td>0</td>\n",
       "    </tr>\n",
       "    <tr>\n",
       "      <th>10495</th>\n",
       "      <td>dataset/neumonia/PNEUMONIA_1185.jpeg</td>\n",
       "      <td>1</td>\n",
       "      <td>0</td>\n",
       "    </tr>\n",
       "    <tr>\n",
       "      <th>10496</th>\n",
       "      <td>dataset/no-neumonia/IM-0455-0001.jpeg</td>\n",
       "      <td>0</td>\n",
       "      <td>1</td>\n",
       "    </tr>\n",
       "    <tr>\n",
       "      <th>10497</th>\n",
       "      <td>dataset/no-neumonia/NORMAL_950.jpeg</td>\n",
       "      <td>0</td>\n",
       "      <td>1</td>\n",
       "    </tr>\n",
       "  </tbody>\n",
       "</table>\n",
       "<p>10498 rows × 3 columns</p>\n",
       "</div>"
      ],
      "text/plain": [
       "                                               imagen  neumonia  no_neumonia\n",
       "0                dataset/neumonia/PNEUMONIA_3336.jpeg         1            0\n",
       "1       dataset/no-neumonia/NORMAL2-IM-1149-0001.jpeg         0            1\n",
       "2                dataset/no-neumonia/NORMAL_2030.jpeg         0            1\n",
       "3                dataset/neumonia/PNEUMONIA_2178.jpeg         1            0\n",
       "4         dataset/neumonia/BACTERIA-7720431-0001.jpeg         1            0\n",
       "...                                               ...       ...          ...\n",
       "10493           dataset/no-neumonia/IM-0501-0001.jpeg         0            1\n",
       "10494  dataset/neumonia/person1921_bacteria_4828.jpeg         1            0\n",
       "10495            dataset/neumonia/PNEUMONIA_1185.jpeg         1            0\n",
       "10496           dataset/no-neumonia/IM-0455-0001.jpeg         0            1\n",
       "10497             dataset/no-neumonia/NORMAL_950.jpeg         0            1\n",
       "\n",
       "[10498 rows x 3 columns]"
      ]
     },
     "execution_count": 4,
     "metadata": {},
     "output_type": "execute_result"
    }
   ],
   "source": [
    "datos"
   ]
  },
  {
   "cell_type": "code",
   "execution_count": 5,
   "id": "8694bffa-44c9-4446-94dd-4725fcd04814",
   "metadata": {
    "execution": {
     "iopub.execute_input": "2023-10-20T17:19:12.259970Z",
     "iopub.status.busy": "2023-10-20T17:19:12.259782Z",
     "iopub.status.idle": "2023-10-20T17:19:12.264260Z",
     "shell.execute_reply": "2023-10-20T17:19:12.263732Z",
     "shell.execute_reply.started": "2023-10-20T17:19:12.259953Z"
    },
    "id": "8694bffa-44c9-4446-94dd-4725fcd04814",
    "tags": []
   },
   "outputs": [],
   "source": [
    "def cargar_imagenes(nombres, et):\n",
    "    imagenes = []\n",
    "    etiquetas = []\n",
    "    for i in range(len(nombres)):\n",
    "        ruta = 'neumona-x-rays-dataset/' + nombres[i]\n",
    "        imagen = cv2.imread(ruta, cv2.IMREAD_COLOR)\n",
    "        imagen = cv2.cvtColor(imagen, cv2.COLOR_BGR2GRAY)\n",
    "        imagen = imagen.reshape(imagen.shape[0], imagen.shape[0], 1)\n",
    "        imagenes.append(imagen)\n",
    "        etiquetas.append(list(et.iloc[i]))\n",
    "\n",
    "    return imagenes, etiquetas"
   ]
  },
  {
   "cell_type": "code",
   "execution_count": 6,
   "id": "40f4057a-b799-4d15-9055-c8f462f40883",
   "metadata": {
    "execution": {
     "iopub.execute_input": "2023-10-20T17:19:12.265230Z",
     "iopub.status.busy": "2023-10-20T17:19:12.264963Z",
     "iopub.status.idle": "2023-10-20T17:19:12.268952Z",
     "shell.execute_reply": "2023-10-20T17:19:12.268407Z",
     "shell.execute_reply.started": "2023-10-20T17:19:12.265212Z"
    },
    "id": "40f4057a-b799-4d15-9055-c8f462f40883",
    "tags": []
   },
   "outputs": [],
   "source": [
    "paths = datos.iloc[:, 0]\n",
    "tags = datos.iloc[:, 1:]   #ignoro filas particulares y traigo las columnas de 1 a fin"
   ]
  },
  {
   "cell_type": "code",
   "execution_count": 7,
   "id": "266e8cce-b361-4aff-bc36-736fddb6beee",
   "metadata": {
    "execution": {
     "iopub.execute_input": "2023-10-20T17:19:12.271122Z",
     "iopub.status.busy": "2023-10-20T17:19:12.270870Z",
     "iopub.status.idle": "2023-10-20T17:19:24.589299Z",
     "shell.execute_reply": "2023-10-20T17:19:24.588629Z",
     "shell.execute_reply.started": "2023-10-20T17:19:12.271104Z"
    },
    "id": "266e8cce-b361-4aff-bc36-736fddb6beee",
    "tags": []
   },
   "outputs": [],
   "source": [
    "imagenes, etiquetas = cargar_imagenes(paths, tags)"
   ]
  },
  {
   "cell_type": "code",
   "execution_count": 8,
   "id": "f3dfcf60-e42a-4281-abdc-66c08ff04961",
   "metadata": {
    "execution": {
     "iopub.execute_input": "2023-10-20T17:19:24.590537Z",
     "iopub.status.busy": "2023-10-20T17:19:24.590143Z",
     "iopub.status.idle": "2023-10-20T17:19:24.595474Z",
     "shell.execute_reply": "2023-10-20T17:19:24.594945Z",
     "shell.execute_reply.started": "2023-10-20T17:19:24.590516Z"
    }
   },
   "outputs": [],
   "source": [
    "def mostrar_grafico_clases(etiquetas):\n",
    "    cant_neumonia = etiquetas.count([1, 0])\n",
    "    cant_no_neumonia = etiquetas.count([0, 1])\n",
    "\n",
    "    categorias = ['neumonia', 'no_neumonia']\n",
    "    cantidades = [cant_neumonia, cant_no_neumonia]\n",
    "\n",
    "    plt.figure(figsize=(6, 4))\n",
    "    barras = plt.bar(categorias, cantidades)\n",
    "\n",
    "    for bar, cantidad in zip(barras, cantidades):\n",
    "        plt.text(bar.get_x() + bar.get_width() / 2 - 0.1, bar.get_height() / 2, str(cantidad), fontsize=12)\n",
    "\n",
    "    plt.xlabel('Clases')\n",
    "    plt.ylabel('Cantidad de Imágenes')\n",
    "    plt.title('Cantidad de Imágenes por Clase')\n",
    "\n",
    "    plt.show()"
   ]
  },
  {
   "cell_type": "code",
   "execution_count": 9,
   "id": "3ec226ff-37f3-4a16-b3f4-7b3c3bb52ea1",
   "metadata": {
    "execution": {
     "iopub.execute_input": "2023-10-20T17:19:24.596470Z",
     "iopub.status.busy": "2023-10-20T17:19:24.596222Z",
     "iopub.status.idle": "2023-10-20T17:19:24.599423Z",
     "shell.execute_reply": "2023-10-20T17:19:24.598924Z",
     "shell.execute_reply.started": "2023-10-20T17:19:24.596451Z"
    },
    "id": "3ec226ff-37f3-4a16-b3f4-7b3c3bb52ea1",
    "tags": []
   },
   "outputs": [],
   "source": [
    "div_test = int(len(imagenes) * 0.8)"
   ]
  },
  {
   "cell_type": "code",
   "execution_count": 10,
   "id": "5800bdd7-a242-473f-9d3f-3d518b56ee62",
   "metadata": {
    "execution": {
     "iopub.execute_input": "2023-10-20T17:19:24.600410Z",
     "iopub.status.busy": "2023-10-20T17:19:24.600141Z",
     "iopub.status.idle": "2023-10-20T17:19:24.603747Z",
     "shell.execute_reply": "2023-10-20T17:19:24.603225Z",
     "shell.execute_reply.started": "2023-10-20T17:19:24.600392Z"
    },
    "id": "5800bdd7-a242-473f-9d3f-3d518b56ee62",
    "tags": []
   },
   "outputs": [],
   "source": [
    "imagenes_entrenamiento, imagenes_prueba = imagenes[:div_test], imagenes[div_test:]\n",
    "etiquetas_entrenamiento, etiquetas_prueba = etiquetas[:div_test], etiquetas[div_test:]"
   ]
  },
  {
   "cell_type": "code",
   "execution_count": 11,
   "id": "bfe95c46-9630-4d2d-977c-abf27205dd41",
   "metadata": {
    "execution": {
     "iopub.execute_input": "2023-10-20T17:19:24.604996Z",
     "iopub.status.busy": "2023-10-20T17:19:24.604467Z",
     "iopub.status.idle": "2023-10-20T17:19:24.714023Z",
     "shell.execute_reply": "2023-10-20T17:19:24.713236Z",
     "shell.execute_reply.started": "2023-10-20T17:19:24.604976Z"
    },
    "id": "bfe95c46-9630-4d2d-977c-abf27205dd41",
    "outputId": "b4390c74-2878-410a-a59e-06f56684cdeb",
    "tags": []
   },
   "outputs": [
    {
     "data": {
      "image/png": "[encoded data removed]",
      "text/plain": [
       "<Figure size 600x400 with 1 Axes>"
      ]
     },
     "metadata": {},
     "output_type": "display_data"
    }
   ],
   "source": [
    "mostrar_grafico_clases(etiquetas_entrenamiento)"
   ]
  },
  {
   "cell_type": "code",
   "execution_count": 12,
   "id": "f087907e-4044-4790-bb03-7b5700d09d0e",
   "metadata": {
    "execution": {
     "iopub.execute_input": "2023-10-20T17:19:24.715929Z",
     "iopub.status.busy": "2023-10-20T17:19:24.715269Z",
     "iopub.status.idle": "2023-10-20T17:19:24.828273Z",
     "shell.execute_reply": "2023-10-20T17:19:24.827526Z",
     "shell.execute_reply.started": "2023-10-20T17:19:24.715895Z"
    }
   },
   "outputs": [
    {
     "data": {
      "image/png": "[encoded data removed]",
      "text/plain": [
       "<Figure size 600x400 with 1 Axes>"
      ]
     },
     "metadata": {},
     "output_type": "display_data"
    }
   ],
   "source": [
    "mostrar_grafico_clases(etiquetas_prueba)"
   ]
  },
  {
   "cell_type": "code",
   "execution_count": 13,
   "id": "ab388d07-5389-4f6b-9d52-f61ef9264983",
   "metadata": {
    "execution": {
     "iopub.execute_input": "2023-10-20T17:19:24.829528Z",
     "iopub.status.busy": "2023-10-20T17:19:24.829209Z",
     "iopub.status.idle": "2023-10-20T17:19:26.410221Z",
     "shell.execute_reply": "2023-10-20T17:19:26.409493Z",
     "shell.execute_reply.started": "2023-10-20T17:19:24.829509Z"
    },
    "id": "ab388d07-5389-4f6b-9d52-f61ef9264983",
    "outputId": "a8197205-50fd-4c4f-eb85-d8f526060a53",
    "tags": []
   },
   "outputs": [
    {
     "name": "stdout",
     "output_type": "stream",
     "text": [
      "(2,)\n"
     ]
    }
   ],
   "source": [
    "imagenes_entrenamiento = np.array(imagenes_entrenamiento).astype(float) / 255\n",
    "imagenes_prueba = np.array(imagenes_prueba).astype(float) / 255\n",
    "\n",
    "etiquetas_entrenamiento = np.array(etiquetas_entrenamiento)\n",
    "etiquetas_prueba = np.array(etiquetas_prueba)\n",
    "\n",
    "forma_etiqueta = etiquetas_entrenamiento[0].shape #Esto muestra el formato actual de las etiquetas, en particular muestra la primera\n",
    "                                                    #del array de entrenamiento\n",
    "print(forma_etiqueta)"
   ]
  },
  {
   "cell_type": "code",
   "execution_count": 14,
   "id": "846d0de6-0f96-4144-bfdb-33ec2af1b965",
   "metadata": {
    "execution": {
     "iopub.execute_input": "2023-10-20T17:19:26.411389Z",
     "iopub.status.busy": "2023-10-20T17:19:26.411109Z",
     "iopub.status.idle": "2023-10-20T17:19:26.414813Z",
     "shell.execute_reply": "2023-10-20T17:19:26.414248Z",
     "shell.execute_reply.started": "2023-10-20T17:19:26.411368Z"
    },
    "tags": []
   },
   "outputs": [
    {
     "name": "stdout",
     "output_type": "stream",
     "text": [
      "(8398, 2)\n"
     ]
    }
   ],
   "source": [
    "print(etiquetas_entrenamiento.shape)"
   ]
  },
  {
   "cell_type": "code",
   "execution_count": 15,
   "id": "40f70b21-e669-47bf-bd6b-382f7622757f",
   "metadata": {
    "execution": {
     "iopub.execute_input": "2023-10-20T17:19:26.415867Z",
     "iopub.status.busy": "2023-10-20T17:19:26.415613Z",
     "iopub.status.idle": "2023-10-20T17:19:26.524157Z",
     "shell.execute_reply": "2023-10-20T17:19:26.523541Z",
     "shell.execute_reply.started": "2023-10-20T17:19:26.415847Z"
    },
    "id": "40f70b21-e669-47bf-bd6b-382f7622757f",
    "tags": []
   },
   "outputs": [],
   "source": [
    "modelo_cnn = tf.keras.models.Sequential([\n",
    "    tf.keras.layers.Conv2D(16, (3, 3), activation='relu', input_shape=(224, 224, 1)),\n",
    "    tf.keras.layers.MaxPooling2D(3, 3),\n",
    "    tf.keras.layers.Conv2D(32, (3, 3), activation='relu'),\n",
    "    tf.keras.layers.MaxPooling2D(2, 2),\n",
    "    tf.keras.layers.Dropout(0.3),\n",
    "    tf.keras.layers.Flatten(),\n",
    "    tf.keras.layers.Dense(64, activation='relu'),\n",
    "    tf.keras.layers.Dropout(0.2),\n",
    "    tf.keras.layers.Dense(32, activation='relu'),\n",
    "    tf.keras.layers.Dropout(0.3),\n",
    "    tf.keras.layers.Dense(2, activation='softmax')\n",
    "])"
   ]
  },
  {
   "cell_type": "code",
   "execution_count": 16,
   "id": "1bfc5fa1-598d-4bc4-b6bd-1548dd571f91",
   "metadata": {
    "execution": {
     "iopub.execute_input": "2023-10-20T17:19:26.525310Z",
     "iopub.status.busy": "2023-10-20T17:19:26.525041Z",
     "iopub.status.idle": "2023-10-20T17:19:26.536187Z",
     "shell.execute_reply": "2023-10-20T17:19:26.535636Z",
     "shell.execute_reply.started": "2023-10-20T17:19:26.525290Z"
    },
    "id": "1bfc5fa1-598d-4bc4-b6bd-1548dd571f91",
    "tags": []
   },
   "outputs": [],
   "source": [
    "modelo_cnn.compile(optimizer='adam',\n",
    "                   loss='categorical_crossentropy',\n",
    "                   metrics=['categorical_accuracy'])"
   ]
  },
  {
   "cell_type": "code",
   "execution_count": 17,
   "id": "33051b65-1783-44ac-8b79-4169b517cce1",
   "metadata": {
    "execution": {
     "iopub.execute_input": "2023-10-20T17:19:26.537257Z",
     "iopub.status.busy": "2023-10-20T17:19:26.537006Z",
     "iopub.status.idle": "2023-10-20T17:19:26.539934Z",
     "shell.execute_reply": "2023-10-20T17:19:26.539391Z",
     "shell.execute_reply.started": "2023-10-20T17:19:26.537237Z"
    }
   },
   "outputs": [],
   "source": [
    "vueltas = 20"
   ]
  },
  {
   "cell_type": "code",
   "execution_count": 18,
   "id": "13ce555a-2d90-4e47-99a2-a93b103ed69a",
   "metadata": {
    "execution": {
     "iopub.execute_input": "2023-10-20T17:19:26.540969Z",
     "iopub.status.busy": "2023-10-20T17:19:26.540725Z",
     "iopub.status.idle": "2023-10-20T17:37:31.577598Z",
     "shell.execute_reply": "2023-10-20T17:37:31.576964Z",
     "shell.execute_reply.started": "2023-10-20T17:19:26.540950Z"
    },
    "id": "13ce555a-2d90-4e47-99a2-a93b103ed69a",
    "outputId": "ab0e90c6-fa35-4694-bd54-a3cb789b45d2",
    "tags": []
   },
   "outputs": [
    {
     "name": "stdout",
     "output_type": "stream",
     "text": [
      "Epoch 1/20\n",
      "263/263 [==============================] - 56s 210ms/step - loss: 0.3096 - categorical_accuracy: 0.8778 - val_loss: 0.1669 - val_categorical_accuracy: 0.9381\n",
      "Epoch 2/20\n",
      "263/263 [==============================] - 54s 205ms/step - loss: 0.1536 - categorical_accuracy: 0.9457 - val_loss: 0.1250 - val_categorical_accuracy: 0.9567\n",
      "Epoch 3/20\n",
      "263/263 [==============================] - 54s 206ms/step - loss: 0.1207 - categorical_accuracy: 0.9571 - val_loss: 0.1048 - val_categorical_accuracy: 0.9619\n",
      "Epoch 4/20\n",
      "263/263 [==============================] - 54s 205ms/step - loss: 0.0898 - categorical_accuracy: 0.9655 - val_loss: 0.0988 - val_categorical_accuracy: 0.9671\n",
      "Epoch 5/20\n",
      "263/263 [==============================] - 54s 205ms/step - loss: 0.0766 - categorical_accuracy: 0.9732 - val_loss: 0.0888 - val_categorical_accuracy: 0.9695\n",
      "Epoch 6/20\n",
      "263/263 [==============================] - 54s 204ms/step - loss: 0.0591 - categorical_accuracy: 0.9780 - val_loss: 0.0885 - val_categorical_accuracy: 0.9776\n",
      "Epoch 7/20\n",
      "263/263 [==============================] - 54s 205ms/step - loss: 0.0503 - categorical_accuracy: 0.9801 - val_loss: 0.0974 - val_categorical_accuracy: 0.9786\n",
      "Epoch 8/20\n",
      "263/263 [==============================] - 54s 206ms/step - loss: 0.0455 - categorical_accuracy: 0.9836 - val_loss: 0.1151 - val_categorical_accuracy: 0.9733\n",
      "Epoch 9/20\n",
      "263/263 [==============================] - 54s 204ms/step - loss: 0.0399 - categorical_accuracy: 0.9858 - val_loss: 0.0887 - val_categorical_accuracy: 0.9757\n",
      "Epoch 10/20\n",
      "263/263 [==============================] - 54s 206ms/step - loss: 0.0294 - categorical_accuracy: 0.9886 - val_loss: 0.1061 - val_categorical_accuracy: 0.9710\n",
      "Epoch 11/20\n",
      "263/263 [==============================] - 54s 205ms/step - loss: 0.0297 - categorical_accuracy: 0.9882 - val_loss: 0.1073 - val_categorical_accuracy: 0.9814\n",
      "Epoch 12/20\n",
      "263/263 [==============================] - 54s 206ms/step - loss: 0.0242 - categorical_accuracy: 0.9901 - val_loss: 0.1155 - val_categorical_accuracy: 0.9762\n",
      "Epoch 13/20\n",
      "263/263 [==============================] - 55s 208ms/step - loss: 0.0228 - categorical_accuracy: 0.9908 - val_loss: 0.1024 - val_categorical_accuracy: 0.9795\n",
      "Epoch 14/20\n",
      "263/263 [==============================] - 54s 206ms/step - loss: 0.0206 - categorical_accuracy: 0.9917 - val_loss: 0.1078 - val_categorical_accuracy: 0.9810\n",
      "Epoch 15/20\n",
      "263/263 [==============================] - 54s 207ms/step - loss: 0.0194 - categorical_accuracy: 0.9925 - val_loss: 0.1255 - val_categorical_accuracy: 0.9767\n",
      "Epoch 16/20\n",
      "263/263 [==============================] - 54s 204ms/step - loss: 0.0202 - categorical_accuracy: 0.9923 - val_loss: 0.1320 - val_categorical_accuracy: 0.9795\n",
      "Epoch 17/20\n",
      "263/263 [==============================] - 54s 205ms/step - loss: 0.0204 - categorical_accuracy: 0.9920 - val_loss: 0.1392 - val_categorical_accuracy: 0.9771\n",
      "Epoch 18/20\n",
      "263/263 [==============================] - 54s 205ms/step - loss: 0.0189 - categorical_accuracy: 0.9924 - val_loss: 0.1277 - val_categorical_accuracy: 0.9833\n",
      "Epoch 19/20\n",
      "263/263 [==============================] - 54s 205ms/step - loss: 0.0207 - categorical_accuracy: 0.9919 - val_loss: 0.0903 - val_categorical_accuracy: 0.9824\n",
      "Epoch 20/20\n",
      "263/263 [==============================] - 54s 205ms/step - loss: 0.0149 - categorical_accuracy: 0.9938 - val_loss: 0.1371 - val_categorical_accuracy: 0.9776\n"
     ]
    }
   ],
   "source": [
    "historial_cnn = modelo_cnn.fit(imagenes_entrenamiento, etiquetas_entrenamiento, epochs=vueltas, validation_data=(imagenes_prueba, etiquetas_prueba), use_multiprocessing=True, shuffle=True)"
   ]
  },
  {
   "cell_type": "code",
   "execution_count": 19,
   "id": "2e24eeeb-09d6-4481-9c32-0775420c612e",
   "metadata": {
    "execution": {
     "iopub.execute_input": "2023-10-20T17:37:31.579151Z",
     "iopub.status.busy": "2023-10-20T17:37:31.578562Z",
     "iopub.status.idle": "2023-10-20T17:37:31.810736Z",
     "shell.execute_reply": "2023-10-20T17:37:31.810135Z",
     "shell.execute_reply.started": "2023-10-20T17:37:31.579127Z"
    },
    "tags": []
   },
   "outputs": [
    {
     "data": {
      "image/png": "[encoded data removed]",
      "text/plain": [
       "<Figure size 1000x500 with 2 Axes>"
      ]
     },
     "metadata": {},
     "output_type": "display_data"
    }
   ],
   "source": [
    "# Graficas de precisión y pérdida del modelo\n",
    "categorical_accuracy = historial_cnn.history['categorical_accuracy']\n",
    "val_categorical_accuracy = historial_cnn.history['val_categorical_accuracy']\n",
    "\n",
    "loss = historial_cnn.history['loss']\n",
    "val_loss = historial_cnn.history['val_loss']\n",
    "\n",
    "rango_epocas = range(vueltas)\n",
    "\n",
    "plt.figure(figsize=(10,5))\n",
    "plt.subplot(1,2,1)\n",
    "plt.plot(rango_epocas, categorical_accuracy, label='Precisión Entrenamiento')\n",
    "plt.plot(rango_epocas, val_categorical_accuracy, label='Precisión Pruebas')\n",
    "plt.legend(loc='lower right')\n",
    "plt.ylim(0.8, 1)\n",
    "plt.title('Precisión de entrenamiento y pruebas')\n",
    "\n",
    "plt.subplot(1,2,2)\n",
    "plt.plot(rango_epocas, loss, label= 'Pérdida de entrenamiento')\n",
    "plt.plot(rango_epocas, val_loss, label='Pérdida de pruebas')\n",
    "plt.legend(loc='upper right')\n",
    "plt.ylim(0, 0.8)\n",
    "plt.title('Pérdida de entrenamiento y pruebas')\n",
    "plt.show()"
   ]
  },
  {
   "cell_type": "code",
   "execution_count": 20,
   "id": "00faf71e-673c-4b10-b941-c9246fbe4914",
   "metadata": {
    "execution": {
     "iopub.execute_input": "2023-10-20T17:37:31.811883Z",
     "iopub.status.busy": "2023-10-20T17:37:31.811615Z",
     "iopub.status.idle": "2023-10-20T17:37:31.815134Z",
     "shell.execute_reply": "2023-10-20T17:37:31.814606Z",
     "shell.execute_reply.started": "2023-10-20T17:37:31.811862Z"
    },
    "id": "00faf71e-673c-4b10-b941-c9246fbe4914",
    "tags": []
   },
   "outputs": [],
   "source": [
    "def es_correcta(prediccion, esperado):\n",
    "    return prediccion.index(max(prediccion)) == esperado.index(max(esperado))"
   ]
  },
  {
   "cell_type": "code",
   "execution_count": 21,
   "id": "7af4e645-c1f3-4f0a-b6b6-b5bd6378fb96",
   "metadata": {
    "execution": {
     "iopub.execute_input": "2023-10-20T17:37:31.816177Z",
     "iopub.status.busy": "2023-10-20T17:37:31.815909Z",
     "iopub.status.idle": "2023-10-20T17:37:36.408148Z",
     "shell.execute_reply": "2023-10-20T17:37:36.407539Z",
     "shell.execute_reply.started": "2023-10-20T17:37:31.816156Z"
    },
    "id": "7af4e645-c1f3-4f0a-b6b6-b5bd6378fb96",
    "outputId": "8994b49f-f3d1-4b38-8469-446e2e1d0196",
    "tags": []
   },
   "outputs": [
    {
     "name": "stdout",
     "output_type": "stream",
     "text": [
      "66/66 [==============================] - 4s 56ms/step\n",
      "Cantidad de predicciones: 2100\n",
      "Etiquetas:   [Neum, No_Neum]\n",
      "Total:       [1047, 1053]\n",
      "Correctas:   [1038, 1015]\n",
      "Incorrectas: [9, 38]\n"
     ]
    }
   ],
   "source": [
    "correctas_segun_tipo = [0, 0]\n",
    "falladas_segun_tipo = [0, 0]\n",
    "\n",
    "predicciones = modelo_cnn.predict(imagenes_prueba)\n",
    "print(f\"Cantidad de predicciones: {len(predicciones)}\")\n",
    "\n",
    "for i in range(len(predicciones)):\n",
    "    prediccion = list(predicciones[i])\n",
    "    index = prediccion.index(max(prediccion))\n",
    "\n",
    "    if es_correcta(prediccion, list(etiquetas_prueba[i])):\n",
    "        correctas_segun_tipo[index] += 1\n",
    "    else:\n",
    "        falladas_segun_tipo[index] += 1\n",
    "\n",
    "cant_totales = list(map(lambda x, y: x + y, correctas_segun_tipo, falladas_segun_tipo))\n",
    "print(\"Etiquetas:   [Neum, No_Neum]\")\n",
    "print(f\"Total:       {cant_totales}\")\n",
    "print(f\"Correctas:   {correctas_segun_tipo}\")\n",
    "print(f\"Incorrectas: {falladas_segun_tipo}\")"
   ]
  }
 ],
 "metadata": {
  "colab": {
   "provenance": []
  },
  "kernelspec": {
   "display_name": "saturn (Python 3)",
   "language": "python",
   "name": "python3"
  },
  "language_info": {
   "codemirror_mode": {
    "name": "ipython",
    "version": 3
   },
   "file_extension": ".py",
   "mimetype": "text/x-python",
   "name": "python",
   "nbconvert_exporter": "python",
   "pygments_lexer": "ipython3",
   "version": "3.9.17"
  }
 },
 "nbformat": 4,
 "nbformat_minor": 5
}
