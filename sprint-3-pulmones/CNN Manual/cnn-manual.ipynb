{
 "cells": [
  {
   "cell_type": "code",
   "execution_count": 1,
   "id": "c6ad766c-d246-4f81-98eb-ec01fdba09fb",
   "metadata": {
    "execution": {
     "iopub.execute_input": "2023-10-19T19:41:01.350237Z",
     "iopub.status.busy": "2023-10-19T19:41:01.350048Z",
     "iopub.status.idle": "2023-10-19T19:41:05.509147Z",
     "shell.execute_reply": "2023-10-19T19:41:05.508534Z",
     "shell.execute_reply.started": "2023-10-19T19:41:01.350218Z"
    },
    "id": "c6ad766c-d246-4f81-98eb-ec01fdba09fb",
    "tags": []
   },
   "outputs": [
    {
     "name": "stderr",
     "output_type": "stream",
     "text": [
      "2023-10-19 19:41:01.707029: I tensorflow/tsl/cuda/cudart_stub.cc:28] Could not find cuda drivers on your machine, GPU will not be used.\n",
      "2023-10-19 19:41:01.749169: E tensorflow/compiler/xla/stream_executor/cuda/cuda_dnn.cc:9342] Unable to register cuDNN factory: Attempting to register factory for plugin cuDNN when one has already been registered\n",
      "2023-10-19 19:41:01.749208: E tensorflow/compiler/xla/stream_executor/cuda/cuda_fft.cc:609] Unable to register cuFFT factory: Attempting to register factory for plugin cuFFT when one has already been registered\n",
      "2023-10-19 19:41:01.749233: E tensorflow/compiler/xla/stream_executor/cuda/cuda_blas.cc:1518] Unable to register cuBLAS factory: Attempting to register factory for plugin cuBLAS when one has already been registered\n",
      "2023-10-19 19:41:01.756659: I tensorflow/tsl/cuda/cudart_stub.cc:28] Could not find cuda drivers on your machine, GPU will not be used.\n",
      "2023-10-19 19:41:01.757323: I tensorflow/core/platform/cpu_feature_guard.cc:182] This TensorFlow binary is optimized to use available CPU instructions in performance-critical operations.\n",
      "To enable the following instructions: AVX2 AVX512F FMA, in other operations, rebuild TensorFlow with the appropriate compiler flags.\n",
      "2023-10-19 19:41:02.634936: W tensorflow/compiler/tf2tensorrt/utils/py_utils.cc:38] TF-TRT Warning: Could not find TensorRT\n",
      "/opt/saturncloud/envs/saturn/lib/python3.9/site-packages/scipy/__init__.py:146: UserWarning: A NumPy version >=1.17.3 and <1.25.0 is required for this version of SciPy (detected version 1.26.1\n",
      "  warnings.warn(f\"A NumPy version >={np_minversion} and <{np_maxversion}\"\n"
     ]
    }
   ],
   "source": [
    "import os\n",
    "import cv2\n",
    "import numpy as np\n",
    "import tensorflow as tf\n",
    "import opendatasets as od\n",
    "import pandas as pd\n",
    "from tensorflow.keras.optimizers import Adam\n",
    "import matplotlib.pyplot as plt"
   ]
  },
  {
   "cell_type": "code",
   "execution_count": 2,
   "id": "3eb0ac8a-3272-45e1-b644-a618933246ed",
   "metadata": {
    "execution": {
     "iopub.execute_input": "2023-10-19T19:41:05.511045Z",
     "iopub.status.busy": "2023-10-19T19:41:05.510592Z",
     "iopub.status.idle": "2023-10-19T19:41:05.514737Z",
     "shell.execute_reply": "2023-10-19T19:41:05.514177Z",
     "shell.execute_reply.started": "2023-10-19T19:41:05.511025Z"
    },
    "id": "3eb0ac8a-3272-45e1-b644-a618933246ed",
    "outputId": "d3c38953-9919-49fc-c0f1-8c56cfa9c8b9",
    "tags": []
   },
   "outputs": [
    {
     "name": "stdout",
     "output_type": "stream",
     "text": [
      "Skipping, found downloaded files in \"./neumona-x-rays-dataset\" (use force=True to force download)\n"
     ]
    }
   ],
   "source": [
    "od.download(\"https://www.kaggle.com/datasets/gonzajl/neumona-x-rays-dataset\")"
   ]
  },
  {
   "cell_type": "code",
   "execution_count": 3,
   "id": "cae4902f-63e5-4008-9494-ee0a7d03b2a4",
   "metadata": {
    "execution": {
     "iopub.execute_input": "2023-10-19T19:41:05.515786Z",
     "iopub.status.busy": "2023-10-19T19:41:05.515515Z",
     "iopub.status.idle": "2023-10-19T19:41:05.533442Z",
     "shell.execute_reply": "2023-10-19T19:41:05.532847Z",
     "shell.execute_reply.started": "2023-10-19T19:41:05.515767Z"
    }
   },
   "outputs": [],
   "source": [
    "datos = pd.read_csv('neumona-x-rays-dataset/dataset/datos.csv')"
   ]
  },
  {
   "cell_type": "code",
   "execution_count": 4,
   "id": "940dccf8-6d60-494a-b60f-184a3c8938fa",
   "metadata": {
    "execution": {
     "iopub.execute_input": "2023-10-19T19:41:05.534604Z",
     "iopub.status.busy": "2023-10-19T19:41:05.534336Z",
     "iopub.status.idle": "2023-10-19T19:41:05.550839Z",
     "shell.execute_reply": "2023-10-19T19:41:05.550290Z",
     "shell.execute_reply.started": "2023-10-19T19:41:05.534584Z"
    },
    "id": "940dccf8-6d60-494a-b60f-184a3c8938fa",
    "tags": []
   },
   "outputs": [
    {
     "data": {
      "text/html": [
       "<div>\n",
       "<style scoped>\n",
       "    .dataframe tbody tr th:only-of-type {\n",
       "        vertical-align: middle;\n",
       "    }\n",
       "\n",
       "    .dataframe tbody tr th {\n",
       "        vertical-align: top;\n",
       "    }\n",
       "\n",
       "    .dataframe thead th {\n",
       "        text-align: right;\n",
       "    }\n",
       "</style>\n",
       "<table border=\"1\" class=\"dataframe\">\n",
       "  <thead>\n",
       "    <tr style=\"text-align: right;\">\n",
       "      <th></th>\n",
       "      <th>imagen</th>\n",
       "      <th>neumonia</th>\n",
       "      <th>no_neumonia</th>\n",
       "    </tr>\n",
       "  </thead>\n",
       "  <tbody>\n",
       "    <tr>\n",
       "      <th>0</th>\n",
       "      <td>dataset/neumonia/PNEUMONIA_3336.jpeg</td>\n",
       "      <td>1</td>\n",
       "      <td>0</td>\n",
       "    </tr>\n",
       "    <tr>\n",
       "      <th>1</th>\n",
       "      <td>dataset/no-neumonia/NORMAL2-IM-1149-0001.jpeg</td>\n",
       "      <td>0</td>\n",
       "      <td>1</td>\n",
       "    </tr>\n",
       "    <tr>\n",
       "      <th>2</th>\n",
       "      <td>dataset/no-neumonia/NORMAL_2030.jpeg</td>\n",
       "      <td>0</td>\n",
       "      <td>1</td>\n",
       "    </tr>\n",
       "    <tr>\n",
       "      <th>3</th>\n",
       "      <td>dataset/neumonia/PNEUMONIA_2178.jpeg</td>\n",
       "      <td>1</td>\n",
       "      <td>0</td>\n",
       "    </tr>\n",
       "    <tr>\n",
       "      <th>4</th>\n",
       "      <td>dataset/neumonia/BACTERIA-7720431-0001.jpeg</td>\n",
       "      <td>1</td>\n",
       "      <td>0</td>\n",
       "    </tr>\n",
       "    <tr>\n",
       "      <th>...</th>\n",
       "      <td>...</td>\n",
       "      <td>...</td>\n",
       "      <td>...</td>\n",
       "    </tr>\n",
       "    <tr>\n",
       "      <th>10493</th>\n",
       "      <td>dataset/no-neumonia/IM-0501-0001.jpeg</td>\n",
       "      <td>0</td>\n",
       "      <td>1</td>\n",
       "    </tr>\n",
       "    <tr>\n",
       "      <th>10494</th>\n",
       "      <td>dataset/neumonia/person1921_bacteria_4828.jpeg</td>\n",
       "      <td>1</td>\n",
       "      <td>0</td>\n",
       "    </tr>\n",
       "    <tr>\n",
       "      <th>10495</th>\n",
       "      <td>dataset/neumonia/PNEUMONIA_1185.jpeg</td>\n",
       "      <td>1</td>\n",
       "      <td>0</td>\n",
       "    </tr>\n",
       "    <tr>\n",
       "      <th>10496</th>\n",
       "      <td>dataset/no-neumonia/IM-0455-0001.jpeg</td>\n",
       "      <td>0</td>\n",
       "      <td>1</td>\n",
       "    </tr>\n",
       "    <tr>\n",
       "      <th>10497</th>\n",
       "      <td>dataset/no-neumonia/NORMAL_950.jpeg</td>\n",
       "      <td>0</td>\n",
       "      <td>1</td>\n",
       "    </tr>\n",
       "  </tbody>\n",
       "</table>\n",
       "<p>10498 rows × 3 columns</p>\n",
       "</div>"
      ],
      "text/plain": [
       "                                               imagen  neumonia  no_neumonia\n",
       "0                dataset/neumonia/PNEUMONIA_3336.jpeg         1            0\n",
       "1       dataset/no-neumonia/NORMAL2-IM-1149-0001.jpeg         0            1\n",
       "2                dataset/no-neumonia/NORMAL_2030.jpeg         0            1\n",
       "3                dataset/neumonia/PNEUMONIA_2178.jpeg         1            0\n",
       "4         dataset/neumonia/BACTERIA-7720431-0001.jpeg         1            0\n",
       "...                                               ...       ...          ...\n",
       "10493           dataset/no-neumonia/IM-0501-0001.jpeg         0            1\n",
       "10494  dataset/neumonia/person1921_bacteria_4828.jpeg         1            0\n",
       "10495            dataset/neumonia/PNEUMONIA_1185.jpeg         1            0\n",
       "10496           dataset/no-neumonia/IM-0455-0001.jpeg         0            1\n",
       "10497             dataset/no-neumonia/NORMAL_950.jpeg         0            1\n",
       "\n",
       "[10498 rows x 3 columns]"
      ]
     },
     "execution_count": 4,
     "metadata": {},
     "output_type": "execute_result"
    }
   ],
   "source": [
    "datos"
   ]
  },
  {
   "cell_type": "code",
   "execution_count": 5,
   "id": "8694bffa-44c9-4446-94dd-4725fcd04814",
   "metadata": {
    "execution": {
     "iopub.execute_input": "2023-10-19T19:41:05.551910Z",
     "iopub.status.busy": "2023-10-19T19:41:05.551646Z",
     "iopub.status.idle": "2023-10-19T19:41:05.556179Z",
     "shell.execute_reply": "2023-10-19T19:41:05.555605Z",
     "shell.execute_reply.started": "2023-10-19T19:41:05.551890Z"
    },
    "id": "8694bffa-44c9-4446-94dd-4725fcd04814",
    "tags": []
   },
   "outputs": [],
   "source": [
    "def cargar_imagenes(nombres, et):\n",
    "    imagenes = []\n",
    "    etiquetas = []\n",
    "    for i in range(len(nombres)):\n",
    "        ruta = 'neumona-x-rays-dataset/' + nombres[i]\n",
    "        imagen = cv2.imread(ruta, cv2.IMREAD_COLOR)\n",
    "        imagen = cv2.cvtColor(imagen, cv2.COLOR_BGR2GRAY)\n",
    "        imagen = imagen.reshape(imagen.shape[0], imagen.shape[0], 1)\n",
    "        imagenes.append(imagen)\n",
    "        etiquetas.append(list(et.iloc[i]))\n",
    "\n",
    "    return imagenes, etiquetas"
   ]
  },
  {
   "cell_type": "code",
   "execution_count": 6,
   "id": "40f4057a-b799-4d15-9055-c8f462f40883",
   "metadata": {
    "execution": {
     "iopub.execute_input": "2023-10-19T19:41:05.557163Z",
     "iopub.status.busy": "2023-10-19T19:41:05.556915Z",
     "iopub.status.idle": "2023-10-19T19:41:05.561583Z",
     "shell.execute_reply": "2023-10-19T19:41:05.560955Z",
     "shell.execute_reply.started": "2023-10-19T19:41:05.557142Z"
    },
    "id": "40f4057a-b799-4d15-9055-c8f462f40883",
    "tags": []
   },
   "outputs": [],
   "source": [
    "paths = datos.iloc[:, 0]\n",
    "tags = datos.iloc[:, 1:]   #ignoro filas particulares y traigo las columnas de 1 a fin"
   ]
  },
  {
   "cell_type": "code",
   "execution_count": 7,
   "id": "266e8cce-b361-4aff-bc36-736fddb6beee",
   "metadata": {
    "execution": {
     "iopub.execute_input": "2023-10-19T19:41:05.563993Z",
     "iopub.status.busy": "2023-10-19T19:41:05.563749Z",
     "iopub.status.idle": "2023-10-19T19:41:24.570740Z",
     "shell.execute_reply": "2023-10-19T19:41:24.570099Z",
     "shell.execute_reply.started": "2023-10-19T19:41:05.563976Z"
    },
    "id": "266e8cce-b361-4aff-bc36-736fddb6beee",
    "tags": []
   },
   "outputs": [],
   "source": [
    "imagenes, etiquetas = cargar_imagenes(paths, tags)"
   ]
  },
  {
   "cell_type": "code",
   "execution_count": 8,
   "id": "f3dfcf60-e42a-4281-abdc-66c08ff04961",
   "metadata": {
    "execution": {
     "iopub.execute_input": "2023-10-19T19:41:24.571917Z",
     "iopub.status.busy": "2023-10-19T19:41:24.571573Z",
     "iopub.status.idle": "2023-10-19T19:41:24.577225Z",
     "shell.execute_reply": "2023-10-19T19:41:24.576421Z",
     "shell.execute_reply.started": "2023-10-19T19:41:24.571898Z"
    }
   },
   "outputs": [],
   "source": [
    "def mostrar_grafico_clases(etiquetas):\n",
    "    cant_neumonia = etiquetas.count([1, 0])\n",
    "    cant_no_neumonia = etiquetas.count([0, 1])\n",
    "\n",
    "    categorias = ['neumonia', 'no_neumonia']\n",
    "    cantidades = [cant_neumonia, cant_no_neumonia]\n",
    "\n",
    "    plt.figure(figsize=(6, 4))\n",
    "    barras = plt.bar(categorias, cantidades)\n",
    "\n",
    "    for bar, cantidad in zip(barras, cantidades):\n",
    "        plt.text(bar.get_x() + bar.get_width() / 2 - 0.1, bar.get_height() / 2, str(cantidad), fontsize=12)\n",
    "\n",
    "    plt.xlabel('Clases')\n",
    "    plt.ylabel('Cantidad de Imágenes')\n",
    "    plt.title('Cantidad de Imágenes por Clase')\n",
    "\n",
    "    plt.show()"
   ]
  },
  {
   "cell_type": "code",
   "execution_count": 9,
   "id": "3ec226ff-37f3-4a16-b3f4-7b3c3bb52ea1",
   "metadata": {
    "execution": {
     "iopub.execute_input": "2023-10-19T19:41:24.578911Z",
     "iopub.status.busy": "2023-10-19T19:41:24.578292Z",
     "iopub.status.idle": "2023-10-19T19:41:24.588935Z",
     "shell.execute_reply": "2023-10-19T19:41:24.588424Z",
     "shell.execute_reply.started": "2023-10-19T19:41:24.578881Z"
    },
    "id": "3ec226ff-37f3-4a16-b3f4-7b3c3bb52ea1",
    "tags": []
   },
   "outputs": [],
   "source": [
    "div_test = int(len(imagenes) * 0.8)"
   ]
  },
  {
   "cell_type": "code",
   "execution_count": 10,
   "id": "5800bdd7-a242-473f-9d3f-3d518b56ee62",
   "metadata": {
    "execution": {
     "iopub.execute_input": "2023-10-19T19:41:24.590541Z",
     "iopub.status.busy": "2023-10-19T19:41:24.589882Z",
     "iopub.status.idle": "2023-10-19T19:41:24.594488Z",
     "shell.execute_reply": "2023-10-19T19:41:24.593851Z",
     "shell.execute_reply.started": "2023-10-19T19:41:24.590496Z"
    },
    "id": "5800bdd7-a242-473f-9d3f-3d518b56ee62",
    "tags": []
   },
   "outputs": [],
   "source": [
    "imagenes_entrenamiento, imagenes_prueba = imagenes[:div_test], imagenes[div_test:]\n",
    "etiquetas_entrenamiento, etiquetas_prueba = etiquetas[:div_test], etiquetas[div_test:]"
   ]
  },
  {
   "cell_type": "code",
   "execution_count": 11,
   "id": "bfe95c46-9630-4d2d-977c-abf27205dd41",
   "metadata": {
    "execution": {
     "iopub.execute_input": "2023-10-19T19:41:24.596039Z",
     "iopub.status.busy": "2023-10-19T19:41:24.595413Z",
     "iopub.status.idle": "2023-10-19T19:41:24.736097Z",
     "shell.execute_reply": "2023-10-19T19:41:24.735263Z",
     "shell.execute_reply.started": "2023-10-19T19:41:24.596010Z"
    },
    "id": "bfe95c46-9630-4d2d-977c-abf27205dd41",
    "outputId": "b4390c74-2878-410a-a59e-06f56684cdeb",
    "tags": []
   },
   "outputs": [
    {
     "data": {
      "image/png": "[encoded data removed]",
      "text/plain": [
       "<Figure size 600x400 with 1 Axes>"
      ]
     },
     "metadata": {},
     "output_type": "display_data"
    }
   ],
   "source": [
    "mostrar_grafico_clases(etiquetas_entrenamiento)"
   ]
  },
  {
   "cell_type": "code",
   "execution_count": 12,
   "id": "f087907e-4044-4790-bb03-7b5700d09d0e",
   "metadata": {
    "execution": {
     "iopub.execute_input": "2023-10-19T19:41:24.737943Z",
     "iopub.status.busy": "2023-10-19T19:41:24.737421Z",
     "iopub.status.idle": "2023-10-19T19:41:24.838113Z",
     "shell.execute_reply": "2023-10-19T19:41:24.837316Z",
     "shell.execute_reply.started": "2023-10-19T19:41:24.737908Z"
    }
   },
   "outputs": [
    {
     "data": {
      "image/png": "[encoded data removed]",
      "text/plain": [
       "<Figure size 600x400 with 1 Axes>"
      ]
     },
     "metadata": {},
     "output_type": "display_data"
    }
   ],
   "source": [
    "mostrar_grafico_clases(etiquetas_prueba)"
   ]
  },
  {
   "cell_type": "code",
   "execution_count": 13,
   "id": "ab388d07-5389-4f6b-9d52-f61ef9264983",
   "metadata": {
    "execution": {
     "iopub.execute_input": "2023-10-19T19:41:24.839403Z",
     "iopub.status.busy": "2023-10-19T19:41:24.839066Z",
     "iopub.status.idle": "2023-10-19T19:41:26.435436Z",
     "shell.execute_reply": "2023-10-19T19:41:26.434802Z",
     "shell.execute_reply.started": "2023-10-19T19:41:24.839382Z"
    },
    "id": "ab388d07-5389-4f6b-9d52-f61ef9264983",
    "outputId": "a8197205-50fd-4c4f-eb85-d8f526060a53",
    "tags": []
   },
   "outputs": [
    {
     "name": "stdout",
     "output_type": "stream",
     "text": [
      "(2,)\n"
     ]
    }
   ],
   "source": [
    "imagenes_entrenamiento = np.array(imagenes_entrenamiento).astype(float) / 255\n",
    "imagenes_prueba = np.array(imagenes_prueba).astype(float) / 255\n",
    "\n",
    "etiquetas_entrenamiento = np.array(etiquetas_entrenamiento)\n",
    "etiquetas_prueba = np.array(etiquetas_prueba)\n",
    "\n",
    "forma_etiqueta = etiquetas_entrenamiento[0].shape #Esto muestra el formato actual de las etiquetas, en particular muestra la primera\n",
    "                                                    #del array de entrenamiento\n",
    "print(forma_etiqueta)"
   ]
  },
  {
   "cell_type": "code",
   "execution_count": 14,
   "id": "846d0de6-0f96-4144-bfdb-33ec2af1b965",
   "metadata": {
    "execution": {
     "iopub.execute_input": "2023-10-19T19:41:26.436604Z",
     "iopub.status.busy": "2023-10-19T19:41:26.436297Z",
     "iopub.status.idle": "2023-10-19T19:41:26.439894Z",
     "shell.execute_reply": "2023-10-19T19:41:26.439359Z",
     "shell.execute_reply.started": "2023-10-19T19:41:26.436585Z"
    },
    "tags": []
   },
   "outputs": [
    {
     "name": "stdout",
     "output_type": "stream",
     "text": [
      "(8398, 2)\n"
     ]
    }
   ],
   "source": [
    "print(etiquetas_entrenamiento.shape)"
   ]
  },
  {
   "cell_type": "code",
   "execution_count": 15,
   "id": "40f70b21-e669-47bf-bd6b-382f7622757f",
   "metadata": {
    "execution": {
     "iopub.execute_input": "2023-10-19T19:41:26.440923Z",
     "iopub.status.busy": "2023-10-19T19:41:26.440653Z",
     "iopub.status.idle": "2023-10-19T19:41:26.552352Z",
     "shell.execute_reply": "2023-10-19T19:41:26.551728Z",
     "shell.execute_reply.started": "2023-10-19T19:41:26.440906Z"
    },
    "id": "40f70b21-e669-47bf-bd6b-382f7622757f",
    "tags": []
   },
   "outputs": [],
   "source": [
    "modelo_cnn = tf.keras.models.Sequential([\n",
    "    tf.keras.layers.Conv2D(16, (3, 3), activation='relu', input_shape=(224, 224, 1)),\n",
    "    tf.keras.layers.MaxPooling2D(3, 3),\n",
    "    tf.keras.layers.Conv2D(32, (3, 3), activation='relu'),\n",
    "    tf.keras.layers.MaxPooling2D(2, 2),\n",
    "    tf.keras.layers.Dropout(0.3),\n",
    "    tf.keras.layers.Flatten(),\n",
    "    tf.keras.layers.Dense(64, activation='relu'),\n",
    "    tf.keras.layers.Dropout(0.2),\n",
    "    tf.keras.layers.Dense(32, activation='relu'),\n",
    "    tf.keras.layers.Dropout(0.3),\n",
    "    tf.keras.layers.Dense(2, activation='sigmoid')\n",
    "])"
   ]
  },
  {
   "cell_type": "code",
   "execution_count": 16,
   "id": "1bfc5fa1-598d-4bc4-b6bd-1548dd571f91",
   "metadata": {
    "execution": {
     "iopub.execute_input": "2023-10-19T19:41:26.553591Z",
     "iopub.status.busy": "2023-10-19T19:41:26.553288Z",
     "iopub.status.idle": "2023-10-19T19:41:26.564982Z",
     "shell.execute_reply": "2023-10-19T19:41:26.564437Z",
     "shell.execute_reply.started": "2023-10-19T19:41:26.553572Z"
    },
    "id": "1bfc5fa1-598d-4bc4-b6bd-1548dd571f91",
    "tags": []
   },
   "outputs": [],
   "source": [
    "modelo_cnn.compile(optimizer='adam',\n",
    "                   loss='categorical_crossentropy',\n",
    "                   metrics=['categorical_accuracy'])"
   ]
  },
  {
   "cell_type": "code",
   "execution_count": 17,
   "id": "13ce555a-2d90-4e47-99a2-a93b103ed69a",
   "metadata": {
    "execution": {
     "iopub.execute_input": "2023-10-19T19:41:26.566051Z",
     "iopub.status.busy": "2023-10-19T19:41:26.565797Z",
     "iopub.status.idle": "2023-10-19T19:59:25.499100Z",
     "shell.execute_reply": "2023-10-19T19:59:25.498491Z",
     "shell.execute_reply.started": "2023-10-19T19:41:26.566032Z"
    },
    "id": "13ce555a-2d90-4e47-99a2-a93b103ed69a",
    "outputId": "ab0e90c6-fa35-4694-bd54-a3cb789b45d2",
    "tags": []
   },
   "outputs": [
    {
     "name": "stdout",
     "output_type": "stream",
     "text": [
      "Epoch 1/20\n",
      "263/263 [==============================] - 56s 210ms/step - loss: 0.2760 - categorical_accuracy: 0.8913 - val_loss: 0.1519 - val_categorical_accuracy: 0.9471\n",
      "Epoch 2/20\n",
      "263/263 [==============================] - 54s 206ms/step - loss: 0.1566 - categorical_accuracy: 0.9458 - val_loss: 0.1307 - val_categorical_accuracy: 0.9543\n",
      "Epoch 3/20\n",
      "263/263 [==============================] - 54s 205ms/step - loss: 0.1246 - categorical_accuracy: 0.9537 - val_loss: 0.1421 - val_categorical_accuracy: 0.9576\n",
      "Epoch 4/20\n",
      "263/263 [==============================] - 54s 204ms/step - loss: 0.0929 - categorical_accuracy: 0.9663 - val_loss: 0.1406 - val_categorical_accuracy: 0.9457\n",
      "Epoch 5/20\n",
      "263/263 [==============================] - 53s 203ms/step - loss: 0.0807 - categorical_accuracy: 0.9702 - val_loss: 0.0901 - val_categorical_accuracy: 0.9724\n",
      "Epoch 6/20\n",
      "263/263 [==============================] - 53s 203ms/step - loss: 0.0635 - categorical_accuracy: 0.9745 - val_loss: 0.1025 - val_categorical_accuracy: 0.9610\n",
      "Epoch 7/20\n",
      "263/263 [==============================] - 53s 203ms/step - loss: 0.0506 - categorical_accuracy: 0.9815 - val_loss: 0.0975 - val_categorical_accuracy: 0.9781\n",
      "Epoch 8/20\n",
      "263/263 [==============================] - 54s 205ms/step - loss: 0.0373 - categorical_accuracy: 0.9855 - val_loss: 0.0943 - val_categorical_accuracy: 0.9762\n",
      "Epoch 9/20\n",
      "263/263 [==============================] - 54s 204ms/step - loss: 0.0356 - categorical_accuracy: 0.9871 - val_loss: 0.1178 - val_categorical_accuracy: 0.9724\n",
      "Epoch 10/20\n",
      "263/263 [==============================] - 54s 204ms/step - loss: 0.0368 - categorical_accuracy: 0.9857 - val_loss: 0.0872 - val_categorical_accuracy: 0.9843\n",
      "Epoch 11/20\n",
      "263/263 [==============================] - 54s 204ms/step - loss: 0.0182 - categorical_accuracy: 0.9942 - val_loss: 0.1025 - val_categorical_accuracy: 0.9833\n",
      "Epoch 12/20\n",
      "263/263 [==============================] - 53s 202ms/step - loss: 0.0213 - categorical_accuracy: 0.9923 - val_loss: 0.1141 - val_categorical_accuracy: 0.9800\n",
      "Epoch 13/20\n",
      "263/263 [==============================] - 53s 202ms/step - loss: 0.0216 - categorical_accuracy: 0.9920 - val_loss: 0.1230 - val_categorical_accuracy: 0.9805\n",
      "Epoch 14/20\n",
      "263/263 [==============================] - 54s 205ms/step - loss: 0.0254 - categorical_accuracy: 0.9911 - val_loss: 0.1177 - val_categorical_accuracy: 0.9814\n",
      "Epoch 15/20\n",
      "263/263 [==============================] - 53s 202ms/step - loss: 0.0163 - categorical_accuracy: 0.9933 - val_loss: 0.1273 - val_categorical_accuracy: 0.9824\n",
      "Epoch 16/20\n",
      "263/263 [==============================] - 53s 203ms/step - loss: 0.0208 - categorical_accuracy: 0.9923 - val_loss: 0.1444 - val_categorical_accuracy: 0.9790\n",
      "Epoch 17/20\n",
      "263/263 [==============================] - 54s 204ms/step - loss: 0.0202 - categorical_accuracy: 0.9923 - val_loss: 0.1164 - val_categorical_accuracy: 0.9814\n",
      "Epoch 18/20\n",
      "263/263 [==============================] - 54s 206ms/step - loss: 0.0149 - categorical_accuracy: 0.9937 - val_loss: 0.1381 - val_categorical_accuracy: 0.9843\n",
      "Epoch 19/20\n",
      "263/263 [==============================] - 54s 205ms/step - loss: 0.0163 - categorical_accuracy: 0.9933 - val_loss: 0.1100 - val_categorical_accuracy: 0.9805\n",
      "Epoch 20/20\n",
      "263/263 [==============================] - 55s 207ms/step - loss: 0.0142 - categorical_accuracy: 0.9957 - val_loss: 0.1567 - val_categorical_accuracy: 0.9795\n"
     ]
    }
   ],
   "source": [
    "historial_cnn = modelo_cnn.fit(imagenes_entrenamiento, etiquetas_entrenamiento, epochs=20, validation_data=(imagenes_prueba, etiquetas_prueba), use_multiprocessing=True, shuffle=True)"
   ]
  },
  {
   "cell_type": "code",
   "execution_count": 18,
   "id": "2e24eeeb-09d6-4481-9c32-0775420c612e",
   "metadata": {
    "execution": {
     "iopub.execute_input": "2023-10-19T19:59:25.500393Z",
     "iopub.status.busy": "2023-10-19T19:59:25.500109Z",
     "iopub.status.idle": "2023-10-19T19:59:25.741395Z",
     "shell.execute_reply": "2023-10-19T19:59:25.740624Z",
     "shell.execute_reply.started": "2023-10-19T19:59:25.500372Z"
    },
    "tags": []
   },
   "outputs": [
    {
     "data": {
      "image/png": "[encoded data removed]",
      "text/plain": [
       "<Figure size 1000x500 with 2 Axes>"
      ]
     },
     "metadata": {},
     "output_type": "display_data"
    }
   ],
   "source": [
    "# Graficas de precisión y pérdida del modelo\n",
    "categorical_accuracy = historial_cnn.history['categorical_accuracy']\n",
    "val_categorical_accuracy = historial_cnn.history['val_categorical_accuracy']\n",
    "\n",
    "loss = historial_cnn.history['loss']\n",
    "val_loss = historial_cnn.history['val_loss']\n",
    "\n",
    "rango_epocas = range(20)\n",
    "\n",
    "plt.figure(figsize=(10,5))\n",
    "plt.subplot(1,2,1)\n",
    "plt.plot(rango_epocas, categorical_accuracy, label='Precisión Entrenamiento')\n",
    "plt.plot(rango_epocas, val_categorical_accuracy, label='Precisión Pruebas')\n",
    "plt.legend(loc='lower right')\n",
    "plt.ylim(0.8, 1)\n",
    "plt.title('Precisión de entrenamiento y pruebas')\n",
    "\n",
    "plt.subplot(1,2,2)\n",
    "plt.plot(rango_epocas, loss, label= 'Pérdida de entrenamiento')\n",
    "plt.plot(rango_epocas, val_loss, label='Pérdida de pruebas')\n",
    "plt.legend(loc='upper right')\n",
    "plt.ylim(0, 0.8)\n",
    "plt.title('Pérdida de entrenamiento y pruebas')\n",
    "plt.show()"
   ]
  },
  {
   "cell_type": "code",
   "execution_count": 19,
   "id": "00faf71e-673c-4b10-b941-c9246fbe4914",
   "metadata": {
    "execution": {
     "iopub.execute_input": "2023-10-19T19:59:25.742910Z",
     "iopub.status.busy": "2023-10-19T19:59:25.742522Z",
     "iopub.status.idle": "2023-10-19T19:59:25.747130Z",
     "shell.execute_reply": "2023-10-19T19:59:25.746400Z",
     "shell.execute_reply.started": "2023-10-19T19:59:25.742878Z"
    },
    "id": "00faf71e-673c-4b10-b941-c9246fbe4914",
    "tags": []
   },
   "outputs": [],
   "source": [
    "def es_correcta(prediccion, esperado):\n",
    "    return prediccion.index(max(prediccion)) == esperado.index(max(esperado))"
   ]
  },
  {
   "cell_type": "code",
   "execution_count": 20,
   "id": "7af4e645-c1f3-4f0a-b6b6-b5bd6378fb96",
   "metadata": {
    "execution": {
     "iopub.execute_input": "2023-10-19T19:59:25.748807Z",
     "iopub.status.busy": "2023-10-19T19:59:25.748215Z",
     "iopub.status.idle": "2023-10-19T19:59:30.293634Z",
     "shell.execute_reply": "2023-10-19T19:59:30.293000Z",
     "shell.execute_reply.started": "2023-10-19T19:59:25.748776Z"
    },
    "id": "7af4e645-c1f3-4f0a-b6b6-b5bd6378fb96",
    "outputId": "8994b49f-f3d1-4b38-8469-446e2e1d0196",
    "tags": []
   },
   "outputs": [
    {
     "name": "stdout",
     "output_type": "stream",
     "text": [
      "66/66 [==============================] - 4s 56ms/step\n",
      "Cantidad de predicciones: 2100\n",
      "Etiquetas:   [Neum, No_Neum]\n",
      "Total:       [1049, 1051]\n",
      "Correctas:   [1041, 1016]\n",
      "Incorrectas: [8, 35]\n"
     ]
    }
   ],
   "source": [
    "correctas_segun_tipo = [0, 0]\n",
    "falladas_segun_tipo = [0, 0]\n",
    "\n",
    "predicciones = modelo_cnn.predict(imagenes_prueba)\n",
    "print(f\"Cantidad de predicciones: {len(predicciones)}\")\n",
    "\n",
    "for i in range(len(predicciones)):\n",
    "    prediccion = list(predicciones[i])\n",
    "    index = prediccion.index(max(prediccion))\n",
    "\n",
    "    if es_correcta(prediccion, list(etiquetas_prueba[i])):\n",
    "        correctas_segun_tipo[index] += 1\n",
    "    else:\n",
    "        falladas_segun_tipo[index] += 1\n",
    "\n",
    "cant_totales = list(map(lambda x, y: x + y, correctas_segun_tipo, falladas_segun_tipo))\n",
    "print(\"Etiquetas:   [Neum, No_Neum]\")\n",
    "print(f\"Total:       {cant_totales}\")\n",
    "print(f\"Correctas:   {correctas_segun_tipo}\")\n",
    "print(f\"Incorrectas: {falladas_segun_tipo}\")"
   ]
  }
 ],
 "metadata": {
  "colab": {
   "provenance": []
  },
  "kernelspec": {
   "display_name": "saturn (Python 3)",
   "language": "python",
   "name": "python3"
  },
  "language_info": {
   "codemirror_mode": {
    "name": "ipython",
    "version": 3
   },
   "file_extension": ".py",
   "mimetype": "text/x-python",
   "name": "python",
   "nbconvert_exporter": "python",
   "pygments_lexer": "ipython3",
   "version": "3.9.17"
  }
 },
 "nbformat": 4,
 "nbformat_minor": 5
}
